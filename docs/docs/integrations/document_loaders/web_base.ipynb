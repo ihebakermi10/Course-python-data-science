{
  "cells": [
    {
      "cell_type": "markdown",
      "id": "bf920da0",
      "metadata": {
        "id": "bf920da0"
      },
      "source": [
        "# WebBaseLoader\n",
        "\n",
        "This covers how to use `WebBaseLoader` to load all text from `HTML` webpages into a document format that we can use downstream. For more custom logic for loading webpages look at some child class examples such as `IMSDbLoader`, `AZLyricsLoader`, and `CollegeConfidentialLoader`.\n",
        "\n",
        "If you don't want to worry about website crawling, bypassing JS-blocking sites, and data cleaning, consider using `FireCrawlLoader` or the faster option `SpiderLoader`.\n",
        "\n",
        "## Overview\n",
        "### Integration details\n",
        "\n",
        "- TODO: Fill in table features.\n",
        "- TODO: Remove JS support link if not relevant, otherwise ensure link is correct.\n",
        "- TODO: Make sure API reference links are correct.\n",
        "\n",
        "| Class | Package | Local | Serializable | JS support|\n",
        "| :--- | :--- | :---: | :---: |  :---: |\n",
        "| [WebBaseLoader](https://python.langchain.com/api_reference/community/document_loaders/langchain_community.document_loaders.web_base.WebBaseLoader.html) | [langchain_community](https://python.langchain.com/api_reference/community/index.html) | ✅ | ❌ | ❌ |\n",
        "### Loader features\n",
        "| Source | Document Lazy Loading | Native Async Support\n",
        "| :---: | :---: | :---: |\n",
        "| WebBaseLoader | ✅ | ✅ |\n",
        "\n",
        "## Setup\n",
        "\n",
        "### Credentials\n",
        "\n",
        "`WebBaseLoader` does not require any credentials.\n",
        "\n",
        "### Installation\n",
        "\n",
        "To use the `WebBaseLoader` you first need to install the `langchain-community` python package.\n"
      ]
    },
    {
      "cell_type": "code",
      "execution_count": 1,
      "id": "50a6c9b6",
      "metadata": {
        "colab": {
          "base_uri": "https://localhost:8080/"
        },
        "id": "50a6c9b6",
        "outputId": "cb49df1a-1f47-4444-a136-3aae5a475554"
      },
      "outputs": [
        {
          "output_type": "stream",
          "name": "stdout",
          "text": [
            "\u001b[?25l   \u001b[90m━━━━━━━━━━━━━━━━━━━━━━━━━━━━━━━━━━━━━━━━\u001b[0m \u001b[32m0.0/2.5 MB\u001b[0m \u001b[31m?\u001b[0m eta \u001b[36m-:--:--\u001b[0m\r\u001b[2K   \u001b[91m━━━━━━━━━━━━━━━━━━━━━━━━━━━━━━━━━━━━━━━\u001b[0m\u001b[91m╸\u001b[0m \u001b[32m2.5/2.5 MB\u001b[0m \u001b[31m82.2 MB/s\u001b[0m eta \u001b[36m0:00:01\u001b[0m\r\u001b[2K   \u001b[90m━━━━━━━━━━━━━━━━━━━━━━━━━━━━━━━━━━━━━━━━\u001b[0m \u001b[32m2.5/2.5 MB\u001b[0m \u001b[31m39.1 MB/s\u001b[0m eta \u001b[36m0:00:00\u001b[0m\n",
            "\u001b[?25h\u001b[?25l   \u001b[90m━━━━━━━━━━━━━━━━━━━━━━━━━━━━━━━━━━━━━━━━\u001b[0m \u001b[32m0.0/1.0 MB\u001b[0m \u001b[31m?\u001b[0m eta \u001b[36m-:--:--\u001b[0m\r\u001b[2K   \u001b[90m━━━━━━━━━━━━━━━━━━━━━━━━━━━━━━━━━━━━━━━━\u001b[0m \u001b[32m1.0/1.0 MB\u001b[0m \u001b[31m36.0 MB/s\u001b[0m eta \u001b[36m0:00:00\u001b[0m\n",
            "\u001b[2K   \u001b[90m━━━━━━━━━━━━━━━━━━━━━━━━━━━━━━━━━━━━━━━━\u001b[0m \u001b[32m413.2/413.2 kB\u001b[0m \u001b[31m19.8 MB/s\u001b[0m eta \u001b[36m0:00:00\u001b[0m\n",
            "\u001b[2K   \u001b[90m━━━━━━━━━━━━━━━━━━━━━━━━━━━━━━━━━━━━━━━━\u001b[0m \u001b[32m50.9/50.9 kB\u001b[0m \u001b[31m3.0 MB/s\u001b[0m eta \u001b[36m0:00:00\u001b[0m\n",
            "\u001b[?25h"
          ]
        }
      ],
      "source": [
        "%pip install -qU langchain_community beautifulsoup4"
      ]
    },
    {
      "cell_type": "markdown",
      "id": "25465b06",
      "metadata": {
        "id": "25465b06"
      },
      "source": [
        "## Initialization\n",
        "\n",
        "Now we can instantiate our model object and load documents:"
      ]
    },
    {
      "cell_type": "code",
      "execution_count": 4,
      "id": "00b6de21",
      "metadata": {
        "colab": {
          "base_uri": "https://localhost:8080/"
        },
        "id": "00b6de21",
        "outputId": "f3f6825a-21ce-48d4-c7b0-f33eae5fab88"
      },
      "outputs": [
        {
          "output_type": "stream",
          "name": "stderr",
          "text": [
            "/usr/local/lib/python3.11/dist-packages/urllib3/connectionpool.py:1097: InsecureRequestWarning: Unverified HTTPS request is being made to host 'www.solutis.fr'. Adding certificate verification is strongly advised. See: https://urllib3.readthedocs.io/en/latest/advanced-usage.html#tls-warnings\n",
            "  warnings.warn(\n"
          ]
        },
        {
          "output_type": "stream",
          "name": "stdout",
          "text": [
            "[Document(metadata={'source': 'https://www.solutis.fr/pret-travaux-15000-euros.html', 'title': 'Emprunter un prêt travaux de 15\\xa0000 € - Solutis', 'description': 'Nos experts vous expliquent tout ce qu’il y a à savoir pour emprunter un crédit travaux de 15\\xa0000 €', 'language': 'fr'}, page_content=\"\\n\\n\\n\\n\\nEmprunter un prêt travaux de 15\\xa0000 € - Solutis\\n\\n\\n\\n\\n\\n\\n\\n\\n\\n\\n\\n\\n\\n\\n\\n\\n\\n\\n\\n\\n\\n\\n\\n\\n\\n\\n\\n\\n\\n\\n\\n\\n\\n\\n\\n\\n\\n\\n\\n\\n\\n\\n\\n\\n\\n\\n\\n\\n\\n\\n\\n\\n\\n\\n\\n\\n\\n\\n\\n\\n\\n\\n\\n\\n\\n\\n\\n                            Rachat de crédits\\n                        \\n\\n\\n\\n\\n\\n\\n                            Prêt immobilier\\n                        \\n\\n\\n\\n\\n\\n\\n                            Crédit conso\\n                        \\n\\n\\n\\n\\n\\n\\n\\n\\nCrédit conso\\n\\n\\n\\n\\nNos offres\\n\\n\\nCrédit renouvelable\\nPrêt personnel\\nCrédit auto\\nPrêt moto\\nPrêt travaux\\nMini crédit\\nCrédit vacances / voyage\\n\\n\\n\\n\\nTrouvez votre réponse\\n\\n\\nGuide du crédit à la consommation\\nQuestions fréquentes sur le crédit conso\\nQuel est le crédit le plus facile à obtenir ?\\nQui peut souscrire un crédit à la consommation ?\\nQuels documents donner pour un crédit conso ?\\nComment emprunter de l’argent rapidement ?\\nListe des meilleurs organismes de crédit\\n\\n\\n\\n\\n\\nDécouvrir\\n\\n\\nCrédit immédiat sans justificatif\\nBesoin d'argent en urgence pour aujourd’hui\\nPrêt entre particulier\\nSimulation de crédit\\nBaromètre taux de crédit conso\\nComparateur taux de crédit auto\\nPrêt personnel pour retraité\\n\\n\\n\\n\\n\\n\\n\\n\\n\\n\\n\\n\\n\\n                                    Demande de crédit\\n                                \\n\\n\\n\\n\\n\\n\\n\\n                            Assurance emprunteur\\n                        \\n\\n\\n\\n\\n\\n\\n                            Crédit pro\\n                        \\n\\n\\n\\n\\n\\n\\n\\n\\n\\n\\n\\n\\n\\n\\n\\n\\n\\n\\n\\n\\n\\n\\nSimulez votre projet\\nPrêt auto\\nPrêt travaux\\nPrêt personnel\\nCrédit renouvelable\\n\\nJe valide \\n\\n\\n\\nBesoin d'aide ? On vous rappelle.\\n\\n\\n\\n\\n\\n\\n\\n\\n\\n\\n\\n\\n\\n\\n\\xa0\\xa0\\n                \\n\\n\\n\\nCrédit consommation\\n\\xa0\\xa0\\n                        \\n\\n\\n\\nPrêt travaux\\n\\xa0\\xa0\\n                    \\n\\n\\n\\nEmprunter un prêt travaux de 15000 €\\n\\n\\n\\n\\n\\n\\n\\n                                    Emprunter un prêt travaux de 15000 €\\n                            \\n\\n\\n\\n\\n\\nComparez les meilleurs tauxSouscription facile 100% en ligneÉtude rapide & sans engagement\\n\\nDEMANDE DE PRÊT TRAVAUX GRATUITE ›\\n\\n\\n\\n\\n\\n\\n\\n\\n\\n\\n\\n\\nComparez les meilleurs tauxSouscription facile 100% en ligneÉtude rapide & sans engagement\\n                            \\n\\n\\n\\nDEMANDE DE PRÊT TRAVAUX GRATUITE ›\\n\\n\\n\\n\\n\\n\\n\\n\\n\\n\\n\\n\\n\\n\\nLorsque vous souhaitez aménager votre logement, rénover une pièce de votre habitation, vous pourriez avoir besoin de fonds pour entreprendre tous ces projets. Justement, le prêt travaux d’un montant de 15\\xa0000 € est une solution facile à mettre en place et permettant de disposer du capital nécessaire pour financer des travaux chez soi. Vous pouvez souscrire cette opération pour donner vie à vos projets auprès d’établissements de crédit en faisant la demande.\\n\\n\\n\\n\\n\\n\\n\\n\\n\\nQuels travaux faire dans sa maison avec 15\\xa0000 €\\xa0?\\nVous prévoyez de rénover une partie de votre bien, ou d’améliorer le confort, l’esthétique ou l’accessibilité de celui-ci, ces ouvrages requièrent souvent de dépenser des sommes plus ou moins importantes. En effet, l’accumulation de petits travaux ou la réalisation de gros ouvrage peut nécessiter plusieurs milliers d’euros et parfois atteindre la somme de 15\\xa0000 €.\\nEn fonction de vos priorités et de l’état de votre habitation, avec 15\\xa0000 € il est possible de\\xa0:\\n\\nRénover la cuisine ou la salle de bain\\xa0;\\nRevoir l’isolation thermique\\xa0;\\nRefaire la toiture\\xa0;\\nCréer une pièce supplémentaire ou une terrasse\\xa0;\\nEntreprendre\\xa0une rénovation énergétique.\\n\\nPour être certain que les aménagements futurs de votre maison ou appartement correspondent à vos attentes, il est conseillé d’avoir l’esprit clair sur les chantiers prioritaires, mais aussi de planifier précisément le coût de revient de ces derniers pour éviter toutes mauvaises surprises.\\nComment obtenir 15\\xa0000 € pour réaliser des travaux chez soi\\xa0?\\nPour réunir les fonds nécessaires, nombreuses sont les personnes qui font appel à une banque pour financer la rénovation de leur maison ou appartement.\\nCette pratique est courante car elle permet d’avoir accès à des fonds importants rapidement, qui peuvent se révéler utiles lorsque les travaux à réaliser sont urgents. D’ailleurs, l’emprunt à la banque est aussi privilégié par ceux qui souhaitent conserver leur liquidité en cas de besoins vitaux ou d’opportunités.\\nDe ce fait, pour des travaux d’un montant de 15\\xa0000 €, il est possible de souscrire un prêt bancaire et ainsi financer le chantier de son choix, sans toucher à son épargne, mais également de profiter d’une flexibilité de remboursement. Cela signifie que le souscripteur du prêt travaux de 15\\xa0000 €, peut rembourser à son rythme en fonction des ressources de son foyer. Ainsi, il est possible de rénover son bien sans déséquilibrer ses finances.\\nQuels sont les types de prêts possibles pour effectuer des travaux à hauteur de 15 000 € ?\\nL'emprunteur peut faire la demande de plusieurs types de prêt pour emprunter 15\\xa0000 euros et financer des travaux.\\n\\nLe prêt travaux (ou prêt affecté) :\\xa0c'est un crédit réservé à la réalisation de travaux d'amélioration de son logement.\\xa0Le crédit travaux\\xa0d’un montant de 15\\xa0000 € est utilisé par exemple pour poser du carrelage, aménager son jardin ou encore refaire sa cuisine. À noter que des travaux plus ambitieux et coûteux peuvent être autorisés avec ce modèle de prêt comme l'agrandissement d'une pièce, la construction d'une piscine ou encore une rénovation énergétique de votre habitat. Enfin, la location de matériels, le recours à des prestataires ou l'achat de fournitures et de matériaux rentrent dans les possibilités qu'offre ce prêt. Tout comme\\xa0le crédit à la consommation, la somme totale des travaux ne doit pas excéder les 75 000 €. Par ailleurs, l'emprunteur devra fournir obligatoirement au prêteur les devis et les factures des artisans et/ou entreprises engagés pour entreprendre les travaux.\\xa0\\nLe prêt personnel non affecté\\xa0:\\xa0idéal pour refaire son intérieur par ses propres moyens, alors la solution la plus adéquate est le crédit personnel. L'utilisation de la somme empruntée reste confidentielle par l'emprunteur. Ce type d'emprunt permet de rafraichir et d'embellir son habitat en refaisant par exemple les sols, la peinture ou encore le changement de fenêtres, portes. Les conditions d'obtention d'un prêt personnel de 15\\xa0000€ sont similaires à celles d’un crédit classique. Sachez également qu’un prêt personnel non affecté peut être remboursé sur 12 ans, libre à vous d’ajuster cette modalité en fonction de vos besoins et de votre capacité de remboursement.\\n\\n\\nLe crédit renouvelable\\xa0:\\xa0La souscription d’une réserve de trésorerie peut aider à effectuer des travaux dans sa maison ou son appartement à hauteur de 15\\xa0000 €. Sur le même principe que le prêt personnel, l’emprunteur est libre de l’utilisation des fonds et ce dernier rembourse le capital emprunté à chaque utilisation. En effet, la particularité de cette opération est que le\\xa0crédit renouvelable\\xa0se recharge à chaque mensualité versée par l’emprunteur. A l’image d’un crédit «\\xa0permanent\\xa0», il est possible de financer de nouveaux projets avec cette même réserve d’argent, une fois que celle-ci est complètement remboursée.\\n\\nQuels sont les avantages d’un prêt pour réaliser 15\\xa0000 € de travaux\\xa0?\\n\\nLe crédit personnel non affecté :\\xa0l'avantage\\xa0d’un prêt personnel\\xa0de 15\\xa0000 € pour des travaux est que son demandeur n’est pas obligé de faire appel à des professionnels. Il est intéressant d’opter pour ce mode de financement quand les travaux peuvent et sont réalisés par l’emprunteur. Cela est dû au fait qu’il ne soit pas obligatoire de fournir un justificatif au créancier sur l'utilisation de la somme empruntée.\\nPrêt travaux :\\xa0La souscription d’un prêt travaux de 15\\xa0000 euros pour effectuer des travaux peut être un choix préférentiel grâce à ses nombreux avantages. D’une part, ce type de prêt permet d’obtenir un taux compétitif étant donné que la trésorerie débloquée est dédiée à la concrétisation de vos différents chantiers. Enfin, si les travaux ne se réalisent pas, vous avez la possibilité de demander le remboursement du montant déjà payé ou annuler tout simplement le contrat car les travaux n’ont pas pu être effectués conformément aux clauses du contrat.\\n\\nQuelle mensualité pour un prêt travaux de 15\\xa0000 €\\xa0?\\nPour appréhender au mieux le financement de travaux à hauteur de 15\\xa0000 € ou d’un autre montant, il est recommandé de mesurer l’impact financier de la souscription d’un prêt bancaire sur le budget du foyer. Pour cela, il faut calculer le montant de la mensualité du prêt à venir. A savoir, le calcul d’une mensualité de prêt travaux est connu à partir du taux d’intérêt, de la durée de remboursement, du type de prêt puis du montant emprunté.\\nA ce stade, l’emprunteur peut s’appuyer sur une calculette puis renseigner les informations en lien avec son opération pour obtenir une mensualité indicative et avoir une idée de la mensualité qu’il pourrait rembourser.\\nVoici un exemple de mensualité d’un prêt travaux de 15\\xa0000 € remboursé sur 5, 10 et 12 ans.\\n\\n\\n\\nDurée\\nTAEG fixe*\\nMensualité pour un prêt travaux de 15 000 €\\n\\n\\n\\n\\n60 mois\\n6,38 %\\n293 €\\n\\n\\n120 mois\\n6,38 %\\n170 €\\n\\n\\n144 mois\\n6,38 %\\n150 €\\n\\n\\n\\n*Meilleurs taux nominaux\\xa0des partenaires au 28/01/2025, sous réserve d'étude.\\nEn souscrivant un crédit travaux de 15\\xa0000 €, l’emprunteur remboursera une mensualité comprise entre 150 € et 293 € selon la période de remboursement.\\nQuelles sont les conditions pour obtenir un prêt travaux de 15 000 € ?\\nAfin d'obtenir un\\xa0prêt travaux\\xa0de 15\\xa0000 €, vous pouvez faire appel à un courtier comme Solutis pour trouver le meilleur financement de votre prêt. Vous pouvez faire une\\xa0simulation\\xa0de votre projet en ligne afin de visualiser les effets de cette nouvelle charge dans votre budget. Sachez que ces démarches restent sans engagement, ainsi vous êtes libre de procéder à plusieurs simulations jusqu’à obtenir un résultat à la hauteur de vos attentes et correspondant à votre situation.\\nSi vous envisagez de financer vos travaux grâce à la souscription d’un prêt travaux de 15\\xa0000 €, les établissements financiers sont attentifs sur plusieurs éléments importants constituant votre dossier. Pour ainsi dire, la décision d’accorder une certaine somme d’argent pour effectuer des travaux dépendra de votre situation personnelle, professionnelle ainsi que de votre taux d’endettement.\\nPour rappel, il est possible d’obtenir un crédit travaux d’un montant de 15\\xa0000 euros si\\xa0:\\n\\nVous êtes majeur\\xa0;\\nVous pouvez justifier d’un revenu fixe et régulier. La présence d’un contrat long terme comme un CDI est un premier atout pour obtenir les fonds souhaités.\\nVotre capacité de remboursement est suffisante. En effet, il est important que l’ajout de cette charge ne vienne pas déséquilibrer votre budget et mettre en péril le remboursement de cet emprunt et des autres si c’est le cas.\\nVotre taux d’endettement ne doit pas être trop important. Bien souvent, il est conseillé d’attribuer pas plus d’un tiers des revenus au remboursement des mensualités de crédit soit 35 % de vos revenus, tout en prenant en compte la mensualité future de votre prêt travaux à venir.\\n\\n\\nNotre conseil d'expert :\\nEn faisant appel à notre service de courtage, vous boostez vos chances d’obtenir une offre de prêt travaux de 15\\xa0000 €, car nous pouvons facilement transmettre votre demande à plusieurs de nos banques.\\n\\nQuelles sont les démarches à réaliser pour obtenir un prêt travaux de 15 000 € ?\\nPour une\\xa0demande de prêt travaux de 15\\xa0000 €\\xa0comme d’un montant supérieur ou inférieur, des procédures sont à effectuer. Tout d'abord, une simulation de la somme empruntée est à réaliser, cette dernière peut vous orienter dans le choix à faire concernant les modalités de votre opération. Les différents résultats proposés sont à comparer afin de faire le choix le plus pertinent en fonction de vos besoins et de vos attentes.\\nEnsuite, il est indispensable de constituer un dossier solide afin d'appuyer votre demande de financement pour effectuer 15\\xa0000 € de travaux.\\xa0Les documents à fournir pour obtenir un prêt travaux sont de différentes natures avec les justificatifs de revenus, les justificatifs d'identité et de domicile récents, les justificatifs de crédits en cours, les trois derniers relevés de compte.\\nPuis, l’établissement bancaire étudie et accepte ou refuse la demande de prêt travaux de 15\\xa0000 € en fonction des informations qu’il détient. Si c'est accepté, il y a la signature du contrat entre les deux parties, soit donc l'emprunteur et le créancier. C'est qu'à la fin de ces démarches que le déblocage des fonds nécessaires est activé.\\nLes questions fréquentes sur le prêt travaux de 15\\xa0000 €\\nQuelles sont les banques qui accordent un prêt travaux de 15\\xa0000 euros\\xa0?\\nAujourd’hui, de nombreux organismes bancaires sont en capacité de financer les travaux d’un propriétaire comme d’un locataire. Il suffit de transmettre une demande de prêt consommation à l’établissement en question, pour que celui-ci étudie le dossier du demandeur en vue d’accepter ou de refuser d’accorder les fonds.\\nCrédit travaux de 15\\xa0000 €\\xa0: comment obtenir le meilleur taux\\xa0?\\nPour obtenir le meilleur taux, il est conseillé de comparer les offres des différentes banques et ne retenir que celles qui proposent les conditions les plus intéressantes. Pour y arriver, il est possible de faire appel à un courtier dont la mission est d’accompagner ses clients dans la recherche de financement pour leur projet.\\nPour faire simple, ce professionnel s’occupe de réaliser les démarches à votre place, de la prise de contact, le montage du dossier, la négociation des conditions puis la transmission des offres. Grâce à cet intermédiaire, vous serez en mesure de profiter des offres avec le taux le plus bas et ainsi faire le meilleur choix.\\xa0\\n\\n\\nLes 4 points à retenir sur ce sujet :\\n\\n1. Si vous souhaitez financer 15\\xa0000 € de travaux, il est préférable de choisir un prêt travaux qui propose un taux plus compétitif à condition d’apporter des justificatifs, un prêt personnel mettant à disposition une trésorerie libre ou un crédit renouvelable offrant une flexibilité d’utilisation.\\n2. Plusieurs projets peuvent être réalisés comme la création d’une terrasse, l’amélioration énergétique, ou encore la rénovation d’une pièce.\\n3. L’obtention d’un prêt travaux de 15\\xa0000 requiert d’avoir la majorité, de percevoir un revenu stable, avoir un endettement inférieur à 35 % puis un dossier complet et sérieux.\\n4. La procédure à suivre pour obtenir un crédit pour des travaux d’un montant de 15\\xa0000 € est de commencer par simuler en ligne son opération, de comparer les offres avec l’aide d’un courtier comme Solutis, de faire une demande via un formulaire, de constituer son dossier à envoyer à la banque puis de signer le contrat reçu pour débloquer les fonds.\\n\\n\\n\\n\\n\\n\\nRédigé par Jonathan Hector - Rédacteur confirmé de Solutis\\n\\n\\nMis à jour le 28/01/2025\\n\\n\\n\\nFinancez vos projets personnels au meilleur taux\\nDemande de crédit conso  \\nVotre offre rapide en moins de 24h | Une expertise avec + de 20 ans d'expérience\\nTrustpilot\\n\\n\\n\\n\\n\\nD'autres articles pour approfondir\\xa0\\n\\n\\n\\n\\n\\nCrédit pour rénover sa maison\\n\\n\\n\\n\\n\\n\\nCrédit pour des travaux de 10 000 euros\\n\\n\\n\\n\\n\\n\\nCrédit travaux sur 10 ans\\n\\n\\n\\n\\n\\n\\nCrédit travaux sur 15 ans\\n\\n\\n\\n\\n\\n\\nCrédit travaux sur 20 ans\\n\\n\\n\\n\\n\\n\\nCrédit travaux sur 25 ans\\n\\n\\n\\n\\n\\n\\nRenégocier un prêt travaux\\n\\n\\n\\n\\n\\n\\nComment rénover une passoire thermique\\n\\n\\n\\n\\n\\n\\nComment financer une pergola avec un rachat de crédit ?\\n\\n\\n\\n\\n\\n\\nCrédit travaux sans être propriétaire\\n\\n\\n\\n\\n\\n\\nComment financer une nouvelle cuisine avec des crédits en cours\\n\\n\\n\\n\\n\\n\\nComment financer une rénovation de salle de bain ?\\n\\n\\n\\n\\n\\n\\nCrédit conso : quelles sont les obligations des prêteurs ?\\n\\n\\n\\n\\n\\n\\nRefaire son électricité : les aides financières et les solutions de crédit\\n\\n\\n\\n\\n\\n\\nPourquoi faire un rachat de crédit sans immobilier ?\\n\\n\\n\\n\\n\\n\\nFaut-il faire un prêt relais avec une franchise totale ou partielle ?\\n\\n\\n\\n\\n\\n\\nDécès : quelles conséquences sur le crédit conso ?\\n\\n\\n\\n\\n\\n\\nCrédit travaux isolation : aides et explications\\n\\n\\n\\n\\n\\n\\n\\n\\n\\n\\n\\n\\n\\n\\n\\n\\n\\n\\n\\n\\n\\n27 Rue Jean-Jacques Mention 80084 Amiens \\n\\n\\n\\n\\n\\n\\n\\n\\n\\n\\nUn crédit vous engage et doit être remboursé. Vérifiez vos capacités de remboursement avant de vous engager\\nLoi MURCEF : Aucun versement de quelque nature que ce soit, ne peut être exigé d’un particulier, avant l’obtention d’un ou plusieurs prêts d’argent.\\n\\n\\nLes offres\\n\\n\\n\\n                                            Crédit de 200 euros\\n                                        \\n\\n\\n\\n                                            Crédit de 500 euros\\n                                        \\n\\n\\n\\n                                            Crédit de 1000 euros\\n                                        \\n\\n\\n\\n                                            Crédit de 5000 euros\\n                                        \\n\\n\\n\\n                                            Crédit de 30 000 euros\\n                                        \\n\\n\\n\\n                                            Crédit de 40 000 euros\\n                                        \\n\\n\\n\\n                                            Prêt personnel sur 8, 10 ou 12 ans\\n                                        \\n\\n\\n\\n                                            Quel salaire pour emprunter 10 000 euros ?\\n                                        \\n\\n\\n\\n\\nAccès rapide\\n\\n\\n\\n                                            Prêt renouvelable sans justificatif\\n                                        \\n\\n\\n\\n                                            Besoin de trésorerie urgent\\n                                        \\n\\n\\n\\n                                            Obtenir un crédit en étant fiché Banque de France\\n                                        \\n\\n\\n\\n                                            Crédit sans emploi\\n                                        \\n\\n\\n\\n                                            Refus de crédit : que faire ?\\n                                        \\n\\n\\n\\n                                            Quel salaire pour acheter une voiture avec un crédit auto ?\\n                                        \\n\\n\\n\\n                                            Crédit auto avec de faibles revenus\\n                                        \\n\\n\\n\\n                                            Crédit auto sans CDI\\n                                        \\n\\n\\n\\n\\nNos guides\\n\\n\\n\\n                                            Guide travaux\\n                                        \\n\\n\\n\\n                                            Guide prêt auto\\n                                        \\n\\n\\n\\n                                            Guide prêt personnel\\n                                        \\n\\n\\n\\n                                            Guide crédit conso\\n                                        \\n\\n\\n\\n                                            Guide crédit rapide\\n                                        \\n\\n\\n\\n                                            Guide crédit renouvelable\\n                                        \\n\\n\\n\\n                                            Les actualités sur la consommation\\n                                        \\n\\n\\n\\n\\nInformations légales\\n\\n\\n\\n                                            Qui sommes-nous ?\\n                                        \\n\\n\\n\\n                                            Nous contacter\\n                                        \\n\\n\\n\\n                                            Mentions légales\\n                                        \\n\\n\\n\\n                                            Mentions légales prêt personnel\\n                                        \\n\\n\\n\\n                                            Mentions légales crédit renouvelable\\n                                        \\n\\n\\n\\n                                            Politique de confidentialité\\n                                        \\n\\n\\n\\n                                            Préférences cookies\\n                                        \\n\\n\\n\\n                                            Nos partenaires bancaires\\n                                        \\n\\n\\n\\n                                            Devenir partenaire\\n                                        \\n\\n\\n\\n\\n\\n\\n\\n\\n\\n\\n\\n\\n\\n\\n\\n\\n\\n\\n\")]\n"
          ]
        }
      ],
      "source": [
        "from langchain_community.document_loaders import WebBaseLoader\n",
        "\n",
        "\n",
        "loader = WebBaseLoader(\"https://www.solutis.fr/pret-travaux-15000-euros.html\",requests_kwargs={\"verify\": False})\n",
        "\n",
        "\n",
        "print(loader.load())"
      ]
    },
    {
      "cell_type": "markdown",
      "id": "c162b300-5f4b-4e37-bab3-17f590fc07cc",
      "metadata": {
        "id": "c162b300-5f4b-4e37-bab3-17f590fc07cc"
      },
      "source": [
        "To bypass SSL verification errors during fetching, you can set the \"verify\" option:\n",
        "\n",
        "`loader.requests_kwargs = {'verify':False}`\n",
        "\n",
        "### Initialization with multiple pages\n",
        "\n",
        "You can also pass in a list of pages to load from."
      ]
    },
    {
      "cell_type": "code",
      "execution_count": null,
      "id": "e86c5d40",
      "metadata": {
        "id": "e86c5d40"
      },
      "outputs": [],
      "source": [
        "loader_multiple_pages = WebBaseLoader(\n",
        "    [\"https://www.example.com/\", \"https://google.com\"]\n",
        ")"
      ]
    },
    {
      "cell_type": "markdown",
      "id": "1f61081e",
      "metadata": {
        "id": "1f61081e"
      },
      "source": [
        "## Load"
      ]
    },
    {
      "cell_type": "code",
      "execution_count": null,
      "id": "f06bdc4e",
      "metadata": {
        "id": "f06bdc4e",
        "outputId": "f0f50c09-d31a-4ab4-f9f0-8b7fff6db868"
      },
      "outputs": [
        {
          "data": {
            "text/plain": [
              "Document(metadata={'source': 'https://www.example.com/', 'title': 'Example Domain', 'language': 'No language found.'}, page_content='\\n\\n\\nExample Domain\\n\\n\\n\\n\\n\\n\\n\\nExample Domain\\nThis domain is for use in illustrative examples in documents. You may use this\\n    domain in literature without prior coordination or asking for permission.\\nMore information...\\n\\n\\n\\n')"
            ]
          },
          "execution_count": 4,
          "metadata": {},
          "output_type": "execute_result"
        }
      ],
      "source": [
        "docs = loader.load()\n",
        "\n",
        "docs[0]"
      ]
    },
    {
      "cell_type": "code",
      "execution_count": null,
      "id": "a390d79f",
      "metadata": {
        "id": "a390d79f",
        "outputId": "13ca02c2-4146-4543-be34-f1a202e3641c"
      },
      "outputs": [
        {
          "name": "stdout",
          "output_type": "stream",
          "text": [
            "{'source': 'https://www.example.com/', 'title': 'Example Domain', 'language': 'No language found.'}\n"
          ]
        }
      ],
      "source": [
        "print(docs[0].metadata)"
      ]
    },
    {
      "cell_type": "markdown",
      "id": "641be294",
      "metadata": {
        "id": "641be294"
      },
      "source": [
        "### Load multiple urls concurrently\n",
        "\n",
        "You can speed up the scraping process by scraping and parsing multiple urls concurrently.\n",
        "\n",
        "There are reasonable limits to concurrent requests, defaulting to 2 per second.  If you aren't concerned about being a good citizen, or you control the server you are scraping and don't care about load, you can change the `requests_per_second` parameter to increase the max concurrent requests.  Note, while this will speed up the scraping process, but may cause the server to block you.  Be careful!"
      ]
    },
    {
      "cell_type": "code",
      "execution_count": null,
      "id": "9f9cf30f",
      "metadata": {
        "id": "9f9cf30f",
        "outputId": "27727f35-4098-4ad0-b69a-a46591a42513"
      },
      "outputs": [
        {
          "name": "stdout",
          "output_type": "stream",
          "text": [
            "Note: you may need to restart the kernel to use updated packages.\n"
          ]
        }
      ],
      "source": [
        "%pip install -qU  nest_asyncio\n",
        "\n",
        "# fixes a bug with asyncio and jupyter\n",
        "import nest_asyncio\n",
        "\n",
        "nest_asyncio.apply()"
      ]
    },
    {
      "cell_type": "code",
      "execution_count": null,
      "id": "49586eac",
      "metadata": {
        "id": "49586eac",
        "outputId": "d4f881d9-44be-49aa-e051-7ea2de34b883"
      },
      "outputs": [
        {
          "name": "stderr",
          "output_type": "stream",
          "text": [
            "Fetching pages: 100%|###########################################################################| 2/2 [00:00<00:00,  8.28it/s]\n"
          ]
        },
        {
          "data": {
            "text/plain": [
              "[Document(metadata={'source': 'https://www.example.com/', 'title': 'Example Domain', 'language': 'No language found.'}, page_content='\\n\\n\\nExample Domain\\n\\n\\n\\n\\n\\n\\n\\nExample Domain\\nThis domain is for use in illustrative examples in documents. You may use this\\n    domain in literature without prior coordination or asking for permission.\\nMore information...\\n\\n\\n\\n'),\n",
              " Document(metadata={'source': 'https://google.com', 'title': 'Google', 'description': \"Search the world's information, including webpages, images, videos and more. Google has many special features to help you find exactly what you're looking for.\", 'language': 'en'}, page_content='GoogleSearch Images Maps Play YouTube News Gmail Drive More »Web History | Settings | Sign in\\xa0Advanced search5 ways Gemini can help during the HolidaysAdvertisingBusiness SolutionsAbout Google© 2024 - Privacy - Terms  ')]"
            ]
          },
          "execution_count": 8,
          "metadata": {},
          "output_type": "execute_result"
        }
      ],
      "source": [
        "loader = WebBaseLoader([\"https://www.example.com/\", \"https://google.com\"])\n",
        "loader.requests_per_second = 1\n",
        "docs = loader.aload()\n",
        "docs"
      ]
    },
    {
      "cell_type": "markdown",
      "id": "e337b130",
      "metadata": {
        "id": "e337b130"
      },
      "source": [
        "### Loading a xml file, or using a different BeautifulSoup parser\n",
        "\n",
        "You can also look at `SitemapLoader` for an example of how to load a sitemap file, which is an example of using this feature."
      ]
    },
    {
      "cell_type": "code",
      "execution_count": null,
      "id": "16530c50",
      "metadata": {
        "id": "16530c50",
        "outputId": "3e128659-0234-4219-c5c6-0a0fb169afa8"
      },
      "outputs": [
        {
          "data": {
            "text/plain": [
              "[Document(metadata={'source': 'https://www.govinfo.gov/content/pkg/CFR-2018-title10-vol3/xml/CFR-2018-title10-vol3-sec431-86.xml'}, page_content='\\n\\n10\\nEnergy\\n3\\n2018-01-01\\n2018-01-01\\nfalse\\nUniform test method for the measurement of energy efficiency of commercial packaged boilers.\\nÂ§ 431.86\\nSection Â§ 431.86\\n\\nEnergy\\nDEPARTMENT OF ENERGY\\nENERGY CONSERVATION\\nENERGY EFFICIENCY PROGRAM FOR CERTAIN COMMERCIAL AND INDUSTRIAL EQUIPMENT\\nCommercial Packaged Boilers\\nTest Procedures\\n\\n\\n\\n\\n§\\u2009431.86\\nUniform test method for the measurement of energy efficiency of commercial packaged boilers.\\n(a) Scope. This section provides test procedures, pursuant to the Energy Policy and Conservation Act (EPCA), as amended, which must be followed for measuring the combustion efficiency and/or thermal efficiency of a gas- or oil-fired commercial packaged boiler.\\n(b) Testing and Calculations. Determine the thermal efficiency or combustion efficiency of commercial packaged boilers by conducting the appropriate test procedure(s) indicated in Table 1 of this section.\\n\\nTable 1—Test Requirements for Commercial Packaged Boiler Equipment Classes\\n\\nEquipment category\\nSubcategory\\nCertified rated inputBtu/h\\n\\nStandards efficiency metric(§\\u2009431.87)\\n\\nTest procedure(corresponding to\\nstandards efficiency\\nmetric required\\nby §\\u2009431.87)\\n\\n\\n\\nHot Water\\nGas-fired\\n≥300,000 and ≤2,500,000\\nThermal Efficiency\\nAppendix A, Section 2.\\n\\n\\nHot Water\\nGas-fired\\n>2,500,000\\nCombustion Efficiency\\nAppendix A, Section 3.\\n\\n\\nHot Water\\nOil-fired\\n≥300,000 and ≤2,500,000\\nThermal Efficiency\\nAppendix A, Section 2.\\n\\n\\nHot Water\\nOil-fired\\n>2,500,000\\nCombustion Efficiency\\nAppendix A, Section 3.\\n\\n\\nSteam\\nGas-fired (all*)\\n≥300,000 and ≤2,500,000\\nThermal Efficiency\\nAppendix A, Section 2.\\n\\n\\nSteam\\nGas-fired (all*)\\n>2,500,000 and ≤5,000,000\\nThermal Efficiency\\nAppendix A, Section 2.\\n\\n\\n\\u2003\\n\\n>5,000,000\\nThermal Efficiency\\nAppendix A, Section 2.OR\\nAppendix A, Section 3 with Section 2.4.3.2.\\n\\n\\n\\nSteam\\nOil-fired\\n≥300,000 and ≤2,500,000\\nThermal Efficiency\\nAppendix A, Section 2.\\n\\n\\nSteam\\nOil-fired\\n>2,500,000 and ≤5,000,000\\nThermal Efficiency\\nAppendix A, Section 2.\\n\\n\\n\\u2003\\n\\n>5,000,000\\nThermal Efficiency\\nAppendix A, Section 2.OR\\nAppendix A, Section 3. with Section 2.4.3.2.\\n\\n\\n\\n*\\u2009Equipment classes for commercial packaged boilers as of July 22, 2009 (74 FR 36355) distinguish between gas-fired natural draft and all other gas-fired (except natural draft).\\n\\n(c) Field Tests. The field test provisions of appendix A may be used only to test a unit of commercial packaged boiler with rated input greater than 5,000,000 Btu/h.\\n[81 FR 89305, Dec. 9, 2016]\\n\\n\\nEnergy Efficiency Standards\\n\\n')]"
            ]
          },
          "execution_count": 9,
          "metadata": {},
          "output_type": "execute_result"
        }
      ],
      "source": [
        "loader = WebBaseLoader(\n",
        "    \"https://www.govinfo.gov/content/pkg/CFR-2018-title10-vol3/xml/CFR-2018-title10-vol3-sec431-86.xml\"\n",
        ")\n",
        "loader.default_parser = \"xml\"\n",
        "docs = loader.load()\n",
        "docs"
      ]
    },
    {
      "cell_type": "markdown",
      "id": "5fa40bb1",
      "metadata": {
        "id": "5fa40bb1"
      },
      "source": [
        "## Lazy Load\n",
        "\n",
        "You can use lazy loading to only load one page at a time in order to minimize memory requirements."
      ]
    },
    {
      "cell_type": "code",
      "execution_count": null,
      "id": "303d2f4e",
      "metadata": {
        "id": "303d2f4e",
        "outputId": "c9d816ca-da10-47b2-a6a1-ba67f58ea336"
      },
      "outputs": [
        {
          "name": "stdout",
          "output_type": "stream",
          "text": [
            "\n",
            "\n",
            "10\n",
            "Energy\n",
            "3\n",
            "2018-01-01\n",
            "2018-01-01\n",
            "false\n",
            "Uniform test method for the measurement of energy efficien\n",
            "{'source': 'https://www.govinfo.gov/content/pkg/CFR-2018-title10-vol3/xml/CFR-2018-title10-vol3-sec431-86.xml'}\n"
          ]
        }
      ],
      "source": [
        "pages = []\n",
        "for doc in loader.lazy_load():\n",
        "    pages.append(doc)\n",
        "\n",
        "print(pages[0].page_content[:100])\n",
        "print(pages[0].metadata)"
      ]
    },
    {
      "cell_type": "markdown",
      "id": "20e4cf2a-2e5d-4a1f-8c99-526d36e4b873",
      "metadata": {
        "id": "20e4cf2a-2e5d-4a1f-8c99-526d36e4b873"
      },
      "source": [
        "### Async"
      ]
    },
    {
      "cell_type": "code",
      "execution_count": null,
      "id": "0ab4286f-7b3c-4e4b-890d-7b39082b61b7",
      "metadata": {
        "id": "0ab4286f-7b3c-4e4b-890d-7b39082b61b7",
        "outputId": "d770d610-dd30-41e9-aba1-b362a0cd5d14"
      },
      "outputs": [
        {
          "name": "stderr",
          "output_type": "stream",
          "text": [
            "Fetching pages: 100%|###########################################################################| 1/1 [00:00<00:00, 10.51it/s]"
          ]
        },
        {
          "name": "stdout",
          "output_type": "stream",
          "text": [
            "\n",
            "\n",
            "10\n",
            "Energy\n",
            "3\n",
            "2018-01-01\n",
            "2018-01-01\n",
            "false\n",
            "Uniform test method for the measurement of energy efficien\n",
            "{'source': 'https://www.govinfo.gov/content/pkg/CFR-2018-title10-vol3/xml/CFR-2018-title10-vol3-sec431-86.xml'}\n"
          ]
        },
        {
          "name": "stderr",
          "output_type": "stream",
          "text": [
            "\n"
          ]
        }
      ],
      "source": [
        "pages = []\n",
        "async for doc in loader.alazy_load():\n",
        "    pages.append(doc)\n",
        "\n",
        "print(pages[0].page_content[:100])\n",
        "print(pages[0].metadata)"
      ]
    },
    {
      "cell_type": "markdown",
      "id": "672264ad",
      "metadata": {
        "collapsed": false,
        "jupyter": {
          "outputs_hidden": false
        },
        "id": "672264ad"
      },
      "source": [
        "## Using proxies\n",
        "\n",
        "Sometimes you might need to use proxies to get around IP blocks. You can pass in a dictionary of proxies to the loader (and `requests` underneath) to use them."
      ]
    },
    {
      "cell_type": "code",
      "execution_count": null,
      "id": "9caf0310",
      "metadata": {
        "jupyter": {
          "outputs_hidden": false
        },
        "id": "9caf0310"
      },
      "outputs": [],
      "source": [
        "loader = WebBaseLoader(\n",
        "    \"https://www.walmart.com/search?q=parrots\",\n",
        "    proxies={\n",
        "        \"http\": \"http://{username}:{password}:@proxy.service.com:6666/\",\n",
        "        \"https\": \"https://{username}:{password}:@proxy.service.com:6666/\",\n",
        "    },\n",
        ")\n",
        "docs = loader.load()"
      ]
    },
    {
      "cell_type": "markdown",
      "id": "c8bdc93c",
      "metadata": {
        "id": "c8bdc93c"
      },
      "source": [
        "## API reference\n",
        "\n",
        "For detailed documentation of all `WebBaseLoader` features and configurations head to the API reference: https://python.langchain.com/api_reference/community/document_loaders/langchain_community.document_loaders.web_base.WebBaseLoader.html"
      ]
    }
  ],
  "metadata": {
    "kernelspec": {
      "display_name": "Python 3 (ipykernel)",
      "language": "python",
      "name": "python3"
    },
    "language_info": {
      "codemirror_mode": {
        "name": "ipython",
        "version": 3
      },
      "file_extension": ".py",
      "mimetype": "text/x-python",
      "name": "python",
      "nbconvert_exporter": "python",
      "pygments_lexer": "ipython3",
      "version": "3.10.4"
    },
    "colab": {
      "provenance": []
    }
  },
  "nbformat": 4,
  "nbformat_minor": 5
}