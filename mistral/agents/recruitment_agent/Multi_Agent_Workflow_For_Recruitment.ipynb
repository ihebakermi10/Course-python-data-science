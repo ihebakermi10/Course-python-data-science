{
  "cells": [
    {
      "cell_type": "markdown",
      "metadata": {
        "id": "lDnkYdJwMOGE"
      },
      "source": [
        "# Multi Agent Workflow For Recruitment\n",
        "\n",
        "<a href=\"https://colab.research.google.com/github/mistralai/cookbook/blob/main/mistral/agents/recruitment_agent/Multi_Agent_Workflow_For_Recruitment.ipynb\" target=\"_parent\"><img src=\"https://colab.research.google.com/assets/colab-badge.svg\" alt=\"Open In Colab\"/></a>\n",
        "\n",
        "## Introduction\n",
        "\n",
        "The Multi Agent Workflow For Recruitment is an automated system designed to help streamline the hiring process through specialized AI agents working in harmony to improve candidate evaluation, save time and resources, and improve overall hiring outcomes.\n",
        "\n",
        "## The Problem\n",
        "\n",
        "Today's recruitment landscape faces three critical challenges:\n",
        "\n",
        "1. **Overwhelming Volume**: Recruiters struggle to efficiently process large numbers of applications, often missing qualified candidates.\n",
        "\n",
        "2. **Manual Inefficiency**: Traditional resume screening is time-consuming, inconsistent, and vulnerable to bias.\n",
        "\n",
        "3. **Poor Candidate Experience**: Slow response times and fragmented communication damage employer brand and lose top talent.\n",
        "\n",
        "## Why This Matters\n",
        "\n",
        "Ineffective recruitment directly impacts business outcomes through:\n",
        "\n",
        "- **Reduced Performance**: Missing qualified candidates leads to suboptimal hires and team performance\n",
        "- **Business Delays**: Extended hiring cycles postpone critical projects and initiatives\n",
        "- **Higher Costs**: Inefficient processes and prolonged vacancies increase recruitment costs\n",
        "\n",
        "## Our Solution\n",
        "\n",
        "The Multi Agent Workflow For Recruitment addresses these challenges through a coordinated system of specialized AI agents:\n",
        "\n",
        "1. **DocumentAgent**: Intelligently extracts and processes text from resumes and job descriptions using advanced Mistral's OCR\n",
        "  \n",
        "2. **JobAnalysisAgent**: Analyzes job descriptions to identify required skills, experience, and qualifications\n",
        "\n",
        "3. **ResumeAnalysisAgent**: Parses resumes to create structured candidate profiles with key capabilities\n",
        "\n",
        "4. **MatchingAgent**: Evaluates candidates against job requirements with nuanced understanding beyond keyword matching\n",
        "\n",
        "5. **EmailCommunicationAgent**: Generates personalized email communications and schedules interviews with qualified candidates\n",
        "\n",
        "6. **CoordinatorAgent**: Orchestrates the entire workflow between agents for seamless operation.\n",
        "\n",
        "The solution uses Mistral LLM for language understanding, structured output mechanisms for consistent data extraction, and Mistral OCR for document parsing."
      ]
    },
    {
      "cell_type": "markdown",
      "metadata": {
        "id": "nVuJ-NEgU3OR"
      },
      "source": [
        "### Example: Data Scientist Hiring\n",
        "\n",
        "To illustrate how the Multi Agent Workflow For Recruitment operates in practice, consider a realistic example:\n",
        "\n",
        "HireFive needs to hire a Senior Data Scientist with machine learning expertise. The job description specifies requirements including 3+ years of experience, proficiency in Python and deep learning frameworks, and a Master's degree in a quantitative field. From a pool of candidate resumes, the workflow automatically:\n",
        "\n",
        "- Extracts structured requirements from the job description, identifying critical skills\n",
        "- Parses all the resumes, creating standardized profiles with skills, experience, and education\n",
        "- Evaluates each candidate, assigning scores like \"Technical Skills: 32/40\" and \"Experience: 25/30\"\n",
        "- Identifies candidates scoring above the 70-point threshold\n",
        "- Automatically sends personalized interview invitations with scheduling links to these candidates\n",
        "\n",
        "The entire process completes in minutes, providing HireFive's hiring manager with a ranked list of qualified candidates while eliminating hours of manual resume screening."
      ]
    },
    {
      "cell_type": "markdown",
      "metadata": {
        "id": "ogciwZHzNbMM"
      },
      "source": [
        "### Solution Architecture"
      ]
    },
    {
      "cell_type": "markdown",
      "metadata": {
        "id": "iIRTb8LgNbMN"
      },
      "source": [
        "![Solution Architecture](https://github.com/mistralai/cookbook/blob/main/mistral/agents/recruitment_agent/solution_architecture.png?raw=1)"
      ]
    },
    {
      "cell_type": "markdown",
      "metadata": {
        "id": "-Sb6pBGCNFSY"
      },
      "source": [
        "### Installation"
      ]
    },
    {
      "cell_type": "code",
      "execution_count": 20,
      "metadata": {
        "colab": {
          "base_uri": "https://localhost:8080/"
        },
        "id": "VDEtBc0UNEd_",
        "outputId": "3bae38f2-7a11-4b0e-9cc5-a0c190cc968d"
      },
      "outputs": [
        {
          "output_type": "stream",
          "name": "stdout",
          "text": [
            "Requirement already satisfied: mistralai in /usr/local/lib/python3.11/dist-packages (1.7.0)\n",
            "Requirement already satisfied: eval-type-backport>=0.2.0 in /usr/local/lib/python3.11/dist-packages (from mistralai) (0.2.2)\n",
            "Requirement already satisfied: httpx>=0.28.1 in /usr/local/lib/python3.11/dist-packages (from mistralai) (0.28.1)\n",
            "Requirement already satisfied: pydantic>=2.10.3 in /usr/local/lib/python3.11/dist-packages (from mistralai) (2.11.4)\n",
            "Requirement already satisfied: python-dateutil>=2.8.2 in /usr/local/lib/python3.11/dist-packages (from mistralai) (2.9.0.post0)\n",
            "Requirement already satisfied: typing-inspection>=0.4.0 in /usr/local/lib/python3.11/dist-packages (from mistralai) (0.4.0)\n",
            "Requirement already satisfied: anyio in /usr/local/lib/python3.11/dist-packages (from httpx>=0.28.1->mistralai) (4.9.0)\n",
            "Requirement already satisfied: certifi in /usr/local/lib/python3.11/dist-packages (from httpx>=0.28.1->mistralai) (2025.4.26)\n",
            "Requirement already satisfied: httpcore==1.* in /usr/local/lib/python3.11/dist-packages (from httpx>=0.28.1->mistralai) (1.0.9)\n",
            "Requirement already satisfied: idna in /usr/local/lib/python3.11/dist-packages (from httpx>=0.28.1->mistralai) (3.10)\n",
            "Requirement already satisfied: h11>=0.16 in /usr/local/lib/python3.11/dist-packages (from httpcore==1.*->httpx>=0.28.1->mistralai) (0.16.0)\n",
            "Requirement already satisfied: annotated-types>=0.6.0 in /usr/local/lib/python3.11/dist-packages (from pydantic>=2.10.3->mistralai) (0.7.0)\n",
            "Requirement already satisfied: pydantic-core==2.33.2 in /usr/local/lib/python3.11/dist-packages (from pydantic>=2.10.3->mistralai) (2.33.2)\n",
            "Requirement already satisfied: typing-extensions>=4.12.2 in /usr/local/lib/python3.11/dist-packages (from pydantic>=2.10.3->mistralai) (4.13.2)\n",
            "Requirement already satisfied: six>=1.5 in /usr/local/lib/python3.11/dist-packages (from python-dateutil>=2.8.2->mistralai) (1.17.0)\n",
            "Requirement already satisfied: sniffio>=1.1 in /usr/local/lib/python3.11/dist-packages (from anyio->httpx>=0.28.1->mistralai) (1.3.1)\n"
          ]
        }
      ],
      "source": [
        "!pip install mistralai"
      ]
    },
    {
      "cell_type": "markdown",
      "metadata": {
        "id": "v4izcVMKNJYe"
      },
      "source": [
        "### Imports"
      ]
    },
    {
      "cell_type": "code",
      "execution_count": 21,
      "metadata": {
        "id": "o0B2_fkWNOs0"
      },
      "outputs": [],
      "source": [
        "import os\n",
        "import time\n",
        "import json\n",
        "import requests\n",
        "from typing import List, Optional, Dict, Any\n",
        "from pydantic import BaseModel, Field\n",
        "from mistralai import Mistral\n",
        "\n",
        "import smtplib\n",
        "from email.mime.text import MIMEText\n",
        "from email.mime.multipart import MIMEMultipart"
      ]
    },
    {
      "cell_type": "markdown",
      "metadata": {
        "id": "9gPZxNa6NZoI"
      },
      "source": [
        "### Setup API Keys"
      ]
    },
    {
      "cell_type": "code",
      "execution_count": 22,
      "metadata": {
        "id": "a5aeAvY1NboV"
      },
      "outputs": [],
      "source": [
        "os.environ['MISTRAL_API_KEY'] = \"6QRCTrBo6gNJm3Wi0K4zUMjdnAna0Ffa\" # Get it from https://console.mistral.ai/api-keys"
      ]
    },
    {
      "cell_type": "markdown",
      "metadata": {
        "id": "Z_mWKr2iNPj2"
      },
      "source": [
        "### Initialize Mistral API Client"
      ]
    },
    {
      "cell_type": "code",
      "execution_count": 23,
      "metadata": {
        "id": "-11BUA98NUjH"
      },
      "outputs": [],
      "source": [
        "client = Mistral(api_key=os.environ[\"MISTRAL_API_KEY\"])"
      ]
    },
    {
      "cell_type": "markdown",
      "metadata": {
        "id": "baGzcm6dNbMQ"
      },
      "source": [
        "### Download Data\n",
        "\n",
        "Here, we download the necessary data for the demonstration.\n",
        "\n",
        "1. Job Descrition.\n",
        "2. Candidate Resumes."
      ]
    },
    {
      "cell_type": "markdown",
      "metadata": {
        "id": "2biagIRoNbMQ"
      },
      "source": [
        "##### Helper functions to download Job description and candidate resumes"
      ]
    },
    {
      "cell_type": "code",
      "execution_count": 24,
      "metadata": {
        "id": "pwluBaHENbMQ"
      },
      "outputs": [],
      "source": [
        "def download_job_description(url, output_path = \"job_description.pdf\"):\n",
        "    \"\"\"\n",
        "    Download job description from a given URL.\n",
        "    \"\"\"\n",
        "    response = requests.get(url)\n",
        "    with open(output_path, \"wb\") as f:\n",
        "        f.write(response.content)\n",
        "    print(f\"Downloaded {output_path}\")\n",
        "\n",
        "def download_resumes(url, local_dir=\"resumes\"):\n",
        "    \"\"\"\n",
        "    Download resumes from the given URL.\n",
        "    \"\"\"\n",
        "\n",
        "    response = requests.get(url)\n",
        "\n",
        "    if response.status_code != 200:\n",
        "        print(\"Failed to retrieve folder contents:\", response.text)\n",
        "        return\n",
        "\n",
        "    data = response.json()\n",
        "    os.makedirs(local_dir, exist_ok=True)\n",
        "\n",
        "    print(f\"{len(data)} files available for download:\")\n",
        "    for file in data:\n",
        "        file_name = file[\"name\"]\n",
        "        download_url = file[\"download_url\"]\n",
        "\n",
        "        r = requests.get(download_url)\n",
        "        with open(os.path.join(local_dir, file_name), \"wb\") as f:\n",
        "            f.write(r.content)\n",
        "        print(f\"Downloaded {file_name}\")"
      ]
    },
    {
      "cell_type": "markdown",
      "metadata": {
        "id": "JhMMrJyuNbMQ"
      },
      "source": [
        "#### Download Job Description"
      ]
    },
    {
      "cell_type": "code",
      "execution_count": 25,
      "metadata": {
        "colab": {
          "base_uri": "https://localhost:8080/"
        },
        "id": "mF1pWXx_NbMQ",
        "outputId": "322d0a2b-6ac7-4cda-80df-629dcd387e24"
      },
      "outputs": [
        {
          "output_type": "stream",
          "name": "stdout",
          "text": [
            "Downloaded job_description.pdf\n"
          ]
        }
      ],
      "source": [
        "url = \"https://raw.githubusercontent.com/mistralai/cookbook/main/mistral/agents/recruitment_agent/job_description.pdf\"\n",
        "output_path = \"job_description.pdf\"\n",
        "\n",
        "download_job_description(url, output_path)"
      ]
    },
    {
      "cell_type": "markdown",
      "metadata": {
        "id": "u-ivMpmlNbMR"
      },
      "source": [
        "#### Download Candidate Resumes"
      ]
    },
    {
      "cell_type": "code",
      "execution_count": 26,
      "metadata": {
        "colab": {
          "base_uri": "https://localhost:8080/"
        },
        "id": "S_a9SwwqNbMR",
        "outputId": "968c65fb-a0a5-41e4-c526-fe0210c3b300"
      },
      "outputs": [
        {
          "output_type": "stream",
          "name": "stdout",
          "text": [
            "13 files available for download:\n",
            "Downloaded Resume 10_ Carlos Mendez.pdf\n",
            "Downloaded Resume 11_ Alex Patel.pdf\n",
            "Downloaded Resume 12_ Taylor Williams.pdf\n",
            "Downloaded Resume 13_ Jordan Smith.pdf\n",
            "Downloaded Resume 1_ Sarah Chen.pdf\n",
            "Downloaded Resume 2_ Michael Rodriguez.pdf\n",
            "Downloaded Resume 3_ Jennifer Park.pdf\n",
            "Downloaded Resume 4_ David Wilson.pdf\n",
            "Downloaded Resume 5_ Priya Sharma.pdf\n",
            "Downloaded Resume 6_ James Lee.pdf\n",
            "Downloaded Resume 7_ Emily Johnson.pdf\n",
            "Downloaded Resume 8_ Robert Thompson.pdf\n",
            "Downloaded Resume 9_ Lisa Wang.pdf\n"
          ]
        }
      ],
      "source": [
        "download_resumes(\n",
        "    url = \"https://api.github.com/repos/mistralai/cookbook/contents/mistral/agents/recruitment_agent/resumes\",\n",
        "    local_dir=\"resumes\"\n",
        ")"
      ]
    },
    {
      "cell_type": "markdown",
      "metadata": {
        "id": "zJeeb6dCN58G"
      },
      "source": [
        "### Define Pydantic Models\n",
        "\n",
        "Pydantic models provide structured data validation between agents, ensuring consistent formats for candidate profiles, job requirements, and evaluation scores while enabling seamless integration with Mistral LLM's parsing capabilities. Following are the different pydantic models we use for\n",
        "\n",
        "- **Skill**: Represents a candidate's technical or soft skill with its proficiency level and years of experience.\n",
        "\n",
        "- **Education**: Captures educational qualifications including degree, field of study, institution, and performance metrics.\n",
        "\n",
        "- **Experience**: Tracks professional experience with role details, duration, utilized skills, and key accomplishments.\n",
        "\n",
        "- **ContactDetails**: Stores candidate contact information including name, email, and optional communication channels.\n",
        "\n",
        "- **JobRequirements**: Defines position requirements including mandatory and preferred skills, experience level, and educational qualifications.\n",
        "\n",
        "- **CandidateProfile**: Consolidates a candidate's complete professional profile including contact details, skills, education, and work history.\n",
        "\n",
        "- **SkillMatch**: Evaluates individual skill alignment between job requirements and candidate capabilities with confidence scores.\n",
        "\n",
        "- **CandidateScore**: Provides comprehensive scoring across key evaluation areas with total score calculation and identified strengths/gaps.\n",
        "\n",
        "- **CandidateResult**: Connects file information with extracted candidate data and evaluation scores for final ranking and selection."
      ]
    },
    {
      "cell_type": "markdown",
      "metadata": {
        "id": "WCCW-uvRPwqL"
      },
      "source": [
        "#### Pydantic Models for structured extraction."
      ]
    },
    {
      "cell_type": "code",
      "execution_count": 27,
      "metadata": {
        "id": "UueQgG7FOAX8"
      },
      "outputs": [],
      "source": [
        "class Skill(BaseModel):\n",
        "    name: str = Field(description=\"Name of the skill or technology\")\n",
        "    level: Optional[str] = Field(description=\"Proficiency level (beginner, intermediate, advanced)\")\n",
        "    years: Optional[float] = Field(description=\"Years of experience with this skill\")\n",
        "\n",
        "class Education(BaseModel):\n",
        "    degree: str = Field(description=\"Type of degree or certification obtained\")\n",
        "    field: str = Field(description=\"Field of study or specialization\")\n",
        "    institution: str = Field(description=\"Name of educational institution\")\n",
        "    year_completed: Optional[int] = Field(description=\"Year when degree was completed\")\n",
        "    gpa: Optional[float] = Field(description=\"Grade Point Average, typically on 4.0 scale\")\n",
        "\n",
        "class Experience(BaseModel):\n",
        "    title: str = Field(description=\"Job title or position held\")\n",
        "    company: str = Field(description=\"Name of employer or organization\")\n",
        "    duration_years: float = Field(description=\"Duration of employment in years\")\n",
        "    skills_used: List[str] = Field(description=\"Skills utilized in this role\")\n",
        "    achievements: List[str] = Field(description=\"Key accomplishments or responsibilities\")\n",
        "    relevance_score: Optional[float] = Field(description=\"Relevance to current job opening (0-10 scale)\")\n",
        "\n",
        "class ContactDetails(BaseModel):\n",
        "    name: str = Field(description=\"Full name of the candidate\")\n",
        "    email: str = Field(description=\"Primary email address for contact\")\n",
        "    phone: Optional[str] = Field(description=\"Phone number with country code if applicable\")\n",
        "    location: Optional[str] = Field(description=\"Current city and country/state\")\n",
        "    linkedin: Optional[str] = Field(description=\"LinkedIn profile URL\")\n",
        "    website: Optional[str] = Field(description=\"Personal or portfolio website URL\")\n",
        "\n",
        "class JobRequirements(BaseModel):\n",
        "    required_skills: List[Skill] = Field(description=\"Skills that are mandatory for the position\")\n",
        "    preferred_skills: List[Skill] = Field(description=\"Skills that are desired but not required\")\n",
        "    min_experience_years: float = Field(description=\"Minimum years of experience required\")\n",
        "    required_education: List[Education] = Field(description=\"Mandatory educational qualifications\")\n",
        "    preferred_domains: List[str] = Field(description=\"Industry domains or sectors preferred for experience\")\n",
        "\n",
        "class CandidateProfile(BaseModel):\n",
        "    contact_details: ContactDetails = Field(description=\"Candidate's personal and contact information\")\n",
        "    skills: List[Skill] = Field(description=\"Technical and soft skills possessed by the candidate\")\n",
        "    education: List[Education] = Field(description=\"Educational background and qualifications\")\n",
        "    experience: List[Experience] = Field(description=\"Professional work history and experience\")\n",
        "\n",
        "class SkillMatch(BaseModel):\n",
        "    skill_name: str = Field(description=\"Name of the skill being evaluated\")\n",
        "    present: bool = Field(description=\"Whether the candidate possesses this skill\")\n",
        "    match_level: float = Field(description=\"How well the candidate's skill matches the requirement (0-10 scale)\")\n",
        "    confidence: float = Field(description=\"Confidence in the skill evaluation (0-1 scale)\")\n",
        "    notes: str = Field(description=\"Additional context about the skill match assessment\")\n",
        "\n",
        "class CandidateScore(BaseModel):\n",
        "    technical_skills_score: float = Field(description=\"Assessment of technical capabilities (0-40 points)\")\n",
        "    experience_score: float = Field(description=\"Evaluation of relevant work experience (0-30 points)\")\n",
        "    education_score: float = Field(description=\"Rating of educational qualifications (0-15 points)\")\n",
        "    additional_score: float = Field(description=\"Score for other relevant factors (0-15 points)\")\n",
        "    total_score: float = Field(description=\"Aggregate candidate evaluation score (0-100)\")\n",
        "    key_strengths: List[str] = Field(description=\"Primary candidate advantages for this role\")\n",
        "    key_gaps: List[str] = Field(description=\"Areas where the candidate lacks desired qualifications\")\n",
        "    confidence: float = Field(description=\"Overall confidence in the evaluation accuracy (0-1 scale)\")\n",
        "    notes: str = Field(description=\"Supplementary observations about the candidate fit\")\n",
        "\n",
        "class CandidateResult(BaseModel):\n",
        "    file_name: str = Field(description=\"Name of the source resume file\")\n",
        "    contact_details: ContactDetails = Field(description=\"Candidate's contact information\")\n",
        "    candidate_profile: CandidateProfile = Field(description=\"Complete extracted candidate profile\")\n",
        "    score: CandidateScore = Field(description=\"Detailed evaluation scores and assessment\")"
      ]
    },
    {
      "cell_type": "markdown",
      "metadata": {
        "id": "qAqzJf3eQIdl"
      },
      "source": [
        "### Base Agent Class\n",
        "\n",
        "The `Agent` class serves as the foundation for all specialized agents, providing a standardized interface for processing and communicating between agents in the recruitment workflow.\n",
        "\n",
        "Each agent implements the common `process()` method while inheriting identity management and communication capabilities."
      ]
    },
    {
      "cell_type": "code",
      "execution_count": 28,
      "metadata": {
        "id": "FnjmfuluQIkl"
      },
      "outputs": [],
      "source": [
        "class Agent:\n",
        "    def __init__(self, name: str, client: Mistral):\n",
        "        self.name = name\n",
        "        self.client = client\n",
        "\n",
        "    def process(self, message):\n",
        "        \"\"\"Base process method - to be implemented by child classes\"\"\"\n",
        "        raise NotImplementedError(\"Subclasses must implement process method\")\n",
        "\n",
        "    def communicate(self, recipient_agent, message):\n",
        "        \"\"\"Send message to another agent\"\"\"\n",
        "        return recipient_agent.process(message)"
      ]
    },
    {
      "cell_type": "markdown",
      "metadata": {
        "id": "h3MCgGmAQdeP"
      },
      "source": [
        "### DocumentAgent: Handles document extraction and OCR\n",
        "\n",
        "The `DocumentAgent` handles document processing by extracting structured text from various files using Mistral's OCR capabilities. It transforms complex resume PDFs and job descriptions into text, serving as the initial data gateway for the entire recruitment workflow."
      ]
    },
    {
      "cell_type": "code",
      "execution_count": 29,
      "metadata": {
        "id": "8zsc8PjBQdjT"
      },
      "outputs": [],
      "source": [
        "class DocumentAgent(Agent):\n",
        "    def __init__(self, client: Mistral):\n",
        "        super().__init__(\"DocumentAgent\", client)\n",
        "\n",
        "    def process(self, file_info):\n",
        "        \"\"\"Process document extraction request\"\"\"\n",
        "        file_path, file_name = file_info\n",
        "        return self.extract_text_from_file(file_path, file_name)\n",
        "\n",
        "    def extract_text_from_file(self, file_path: str, file_name: str) -> str:\n",
        "        \"\"\"Extract text from a file using Mistral OCR\"\"\"\n",
        "        try:\n",
        "            # Upload the file\n",
        "            uploaded_file = self.client.files.upload(\n",
        "                file={\n",
        "                    \"file_name\": file_name,\n",
        "                    \"content\": open(file_path, \"rb\"),\n",
        "                },\n",
        "                purpose=\"ocr\"\n",
        "            )\n",
        "\n",
        "            # Get signed URL\n",
        "            signed_url = self.client.files.get_signed_url(file_id=uploaded_file.id)\n",
        "\n",
        "            # Process with OCR\n",
        "            ocr_response = self.client.ocr.process(\n",
        "                model=\"mistral-ocr-latest\",\n",
        "                document={\n",
        "                    \"type\": \"document_url\",\n",
        "                    \"document_url\": signed_url.url,\n",
        "                }\n",
        "            )\n",
        "\n",
        "            # Extract and return the text\n",
        "            extracted_text = \"\"\n",
        "            for page in ocr_response.pages:\n",
        "                extracted_text += page.markdown + \"\\n\\n\"\n",
        "\n",
        "            return extracted_text\n",
        "\n",
        "        except Exception as e:\n",
        "            print(f\"Error extracting text from {file_name}: {str(e)}\")\n",
        "            return \"\""
      ]
    },
    {
      "cell_type": "markdown",
      "metadata": {
        "id": "uK03uRCPQv0b"
      },
      "source": [
        "### JobAnalysisAgent: Handles job requirement extraction and analysis\n",
        "\n",
        "The JobAnalysisAgent extracts structured job requirements from plain text job descriptions using Mistral LLM. It transforms unstructured job postings into organized data models capturing required skills, experience levels, and educational qualifications needed for candidate matching."
      ]
    },
    {
      "cell_type": "code",
      "execution_count": 30,
      "metadata": {
        "id": "F_MPvQFoQv6D"
      },
      "outputs": [],
      "source": [
        "class JobAnalysisAgent(Agent):\n",
        "    def __init__(self, client: Mistral):\n",
        "        super().__init__(\"JobAnalysisAgent\", client)\n",
        "\n",
        "    def process(self, jd_text):\n",
        "        \"\"\"Process job description text\"\"\"\n",
        "        return self.extract_job_requirements(jd_text)\n",
        "\n",
        "    def extract_job_requirements(self, jd_text: str) -> JobRequirements:\n",
        "        \"\"\"Extract structured job requirements from a job description\"\"\"\n",
        "        prompt = f\"\"\"\n",
        "        Extract the key job requirements from the following job description.\n",
        "        Focus on required skills, preferred skills, experience requirements, and education requirements.\n",
        "\n",
        "        Job Description:\n",
        "        {jd_text}\n",
        "        \"\"\"\n",
        "\n",
        "        response = self.client.chat.parse(\n",
        "            model=\"mistral-small-latest\",\n",
        "            messages=[\n",
        "                {\"role\": \"system\", \"content\": \"Extract structured job requirements from the job description.\"},\n",
        "                {\"role\": \"user\", \"content\": prompt}\n",
        "            ],\n",
        "            response_format=JobRequirements,\n",
        "            temperature=0\n",
        "        )\n",
        "\n",
        "        return json.loads(response.choices[0].message.content)"
      ]
    },
    {
      "cell_type": "markdown",
      "metadata": {
        "id": "zq4oaEZNQ9u3"
      },
      "source": [
        "### ResumeAnalysisAgent: Handles resume parsing and profile extraction\n",
        "\n",
        "The ResumeAnalysisAgent transforms raw resume text into structured candidate profiles using Mistral LLM's parsing capabilities. It extracts and organizes key information including contact details, skills, education history, and professional experience into standardized data structures for consistent evaluation."
      ]
    },
    {
      "cell_type": "code",
      "execution_count": 31,
      "metadata": {
        "id": "oLNSdH0wQ9z8"
      },
      "outputs": [],
      "source": [
        "class ResumeAnalysisAgent(Agent):\n",
        "    def __init__(self, client: Mistral):\n",
        "        super().__init__(\"ResumeAnalysisAgent\", client)\n",
        "\n",
        "    def process(self, resume_text):\n",
        "        \"\"\"Process resume text\"\"\"\n",
        "        return self.extract_candidate_profile(resume_text)\n",
        "\n",
        "    def extract_candidate_profile(self, resume_text: str) -> CandidateProfile:\n",
        "        \"\"\"Extract structured candidate information from resume text\"\"\"\n",
        "        prompt = f\"\"\"\n",
        "        Extract the candidate's contact details, skills, education, and experience from the following resume.\n",
        "        Be thorough and include all relevant information.\n",
        "\n",
        "        Resume:\n",
        "        {resume_text}\n",
        "        \"\"\"\n",
        "\n",
        "        response = self.client.chat.parse(\n",
        "            model=\"mistral-small-latest\",\n",
        "            messages=[\n",
        "                {\"role\": \"system\", \"content\": \"Extract structured candidate information from the resume.\"},\n",
        "                {\"role\": \"user\", \"content\": prompt}\n",
        "            ],\n",
        "            response_format=CandidateProfile,\n",
        "            temperature=0\n",
        "        )\n",
        "\n",
        "        return json.loads(response.choices[0].message.content)"
      ]
    },
    {
      "cell_type": "markdown",
      "metadata": {
        "id": "4O5KxSMbRIwy"
      },
      "source": [
        "### MatchingAgent: Evaluates candidate fit against job requirements\n",
        "\n",
        "The `MatchingAgent` evaluates candidate profiles against job requirements to generate comprehensive scoring across technical skills, experience, education and additional qualifications. It employs Mistral LLM to assess the quality and relevance of candidate attributes beyond simple keyword matching, producing a detailed evaluation with confidence metrics and identified strengths and gaps."
      ]
    },
    {
      "cell_type": "code",
      "execution_count": 32,
      "metadata": {
        "id": "vTiUCtrkRIDC"
      },
      "outputs": [],
      "source": [
        "class MatchingAgent(Agent):\n",
        "    def __init__(self, client: Mistral):\n",
        "        super().__init__(\"MatchingAgent\", client)\n",
        "\n",
        "    def process(self, data):\n",
        "        \"\"\"Process job requirements and candidate profile to generate score\"\"\"\n",
        "        job_requirements, candidate_profile, resume_text = data\n",
        "        return self.evaluate_candidate(job_requirements, candidate_profile, resume_text)\n",
        "\n",
        "    def evaluate_candidate(self, job_requirements: JobRequirements, candidate_profile: CandidateProfile, resume_text: str) -> CandidateScore:\n",
        "        \"\"\"Evaluate how well a candidate matches the job requirements\"\"\"\n",
        "        # Convert to JSON for inclusion in the prompt\n",
        "        job_req_json = json.dumps(job_requirements, indent=2)\n",
        "        candidate_json = json.dumps(candidate_profile, indent=2)\n",
        "\n",
        "        prompt = f\"\"\"\n",
        "        Evaluate how well the candidate matches the job requirements.\n",
        "\n",
        "        Job Requirements:\n",
        "        {job_req_json}\n",
        "\n",
        "        Candidate Profile:\n",
        "        {candidate_json}\n",
        "\n",
        "        Provide a detailed scoring breakdown, highlighting strengths and gaps.\n",
        "        Assess the quality and relevance of the candidate's experience, not just keyword matches.\n",
        "        Include confidence levels for your assessment.\n",
        "\n",
        "        Technical skills should be scored out of 40 points.\n",
        "        Experience should be scored out of 30 points.\n",
        "        Education should be scored out of 15 points.\n",
        "        Additional qualifications should be scored out of 15 points.\n",
        "        The total score should be out of 100 points.\n",
        "        \"\"\"\n",
        "\n",
        "        response = self.client.chat.parse(\n",
        "            model=\"mistral-small-latest\",\n",
        "            messages=[\n",
        "                {\"role\": \"system\", \"content\": \"Evaluate the candidate's match to the job requirements with detailed scoring.\"},\n",
        "                {\"role\": \"user\", \"content\": prompt}\n",
        "            ],\n",
        "            response_format=CandidateScore,\n",
        "            temperature=0.2  # Slight randomness for nuanced evaluation\n",
        "        )\n",
        "\n",
        "        return json.loads(response.choices[0].message.content)"
      ]
    },
    {
      "cell_type": "markdown",
      "metadata": {
        "id": "vAe35ycZRV-L"
      },
      "source": [
        "# EmailCommunicationAgent: Handles email generation and sending\n",
        "\n",
        "The `EmailCommunicationAgent` generates personalized email communications to candidates and sends them through SMTP integration. It crafts contextually relevant messages based on candidate qualifications and scheduling information, managing the critical final step of candidate engagement in the recruitment workflow."
      ]
    },
    {
      "cell_type": "code",
      "execution_count": 33,
      "metadata": {
        "id": "o7sNiwIoRWDx"
      },
      "outputs": [],
      "source": [
        "class EmailCommunicationAgent(Agent):\n",
        "    def __init__(self, client: Mistral, sender_email: str, app_password: str):\n",
        "        super().__init__(\"EmailCommunicationAgent\", client)\n",
        "        self.sender_email = sender_email\n",
        "        self.app_password = app_password\n",
        "\n",
        "    def process(self, data):\n",
        "        \"\"\"Process email sending request\"\"\"\n",
        "        candidate, calendly_link, subject = data\n",
        "        return self.send_interview_invitation(candidate, calendly_link, subject)\n",
        "\n",
        "    def send_interview_invitation(self, candidate, calendly_link: str, subject: str):\n",
        "        \"\"\"Generate and send personalized email to candidate\"\"\"\n",
        "        name = candidate[\"contact_details\"]['name']\n",
        "        email = candidate[\"contact_details\"]['email']\n",
        "\n",
        "        # Create email HTML content\n",
        "        html_content = f\"\"\"\\\n",
        "        <html>\n",
        "          <body>\n",
        "            <p>Hello {name},</p>\n",
        "            <p>I'm the Hiring Manager from HireFive. Thank you for applying for the Data Scientist position at our company.</p>\n",
        "            <p>We were impressed with your background and would like to schedule an initial screening call to discuss your experience and interest in the role.</p>\n",
        "            <p>Please select a suitable time slot using our <a href=\"{calendly_link}\">Calendly link</a>.</p>\n",
        "            <p>Looking forward to speaking with you soon.</p>\n",
        "            <p>Best regards,<br>\n",
        "            Hiring Manager<br>\n",
        "            HireFive</p>\n",
        "          </body>\n",
        "        </html>\n",
        "        \"\"\"\n",
        "\n",
        "        if self.app_password:\n",
        "            try:\n",
        "                self.send_email(email, subject, html_content)\n",
        "                return f\"Email sent to {name} at {email}\"\n",
        "            except Exception as e:\n",
        "                return f\"Failed to send email to {name} ({email}): {str(e)}\"\n",
        "        else:\n",
        "            return f\"Would send email to {name} at {email} - Email subject: {subject}\"\n",
        "\n",
        "    def send_email(self, receiver_email, subject, html_content):\n",
        "        \"\"\"Send an email using Gmail SMTP\"\"\"\n",
        "        # Create message container\n",
        "        message = MIMEMultipart('alternative')\n",
        "        message['From'] = self.sender_email\n",
        "        message['To'] = receiver_email\n",
        "        message['Subject'] = subject\n",
        "\n",
        "        # Attach HTML part\n",
        "        message.attach(MIMEText(html_content, 'html'))\n",
        "\n",
        "        try:\n",
        "            # Create SMTP session\n",
        "            server = smtplib.SMTP('smtp.gmail.com', 587)\n",
        "            server.starttls()  # Enable security\n",
        "\n",
        "            # Login with Gmail account and app password\n",
        "            server.login(self.sender_email, self.app_password)\n",
        "\n",
        "            # Send email\n",
        "            text = message.as_string()\n",
        "            server.sendmail(self.sender_email, receiver_email, text)\n",
        "\n",
        "        finally:\n",
        "            server.quit()  # Close the connection"
      ]
    },
    {
      "cell_type": "markdown",
      "metadata": {
        "id": "96owgG7SRr5K"
      },
      "source": [
        "## CoordinatorAgent: Manages the workflow and coordinates between agents\n",
        "\n",
        "The `CoordinatorAgent` orchestrates the entire recruitment workflow by managing communication and data flow between all specialized agents. It initializes the process with job descriptions, distributes resumes, collects evaluation results, applies threshold-based filtering, and triggers candidate communications, serving as the central intelligence that ensures the seamless execution of the multi-agent recruitment system."
      ]
    },
    {
      "cell_type": "code",
      "execution_count": 34,
      "metadata": {
        "id": "2Lwn7KV9Rr9x"
      },
      "outputs": [],
      "source": [
        "class CoordinatorAgent(Agent):\n",
        "    def __init__(self, client: Mistral):\n",
        "        super().__init__(\"CoordinatorAgent\", client)\n",
        "        self.document_agent = DocumentAgent(client)\n",
        "        self.job_analysis_agent = JobAnalysisAgent(client)\n",
        "        self.resume_analysis_agent = ResumeAnalysisAgent(client)\n",
        "        self.matching_agent = MatchingAgent(client)\n",
        "        self.email_communication_agent = None  # Will be initialized later with email credentials\n",
        "\n",
        "    def set_email_communication_agent(self, sender_email: str, app_password: str):\n",
        "        \"\"\"Initialize communication agent with email credentials\"\"\"\n",
        "        self.email_communication_agent = EmailCommunicationAgent(self.client, sender_email, app_password)\n",
        "\n",
        "    def process_hiring_workflow(self, jd_file_path: str, resume_dir: str, output_path: str,\n",
        "                               threshold_score: float, calendly_link: str, email_subject: str):\n",
        "        \"\"\"\n",
        "        Coordinate the entire hiring workflow from document processing to interview scheduling\n",
        "        \"\"\"\n",
        "        results = []\n",
        "\n",
        "        # Process job description\n",
        "        print(f\"🤖 DocumentAgent extracting text from job description...\")\n",
        "        jd_text = self.document_agent.process((jd_file_path, os.path.basename(jd_file_path)))\n",
        "\n",
        "        if not jd_text:\n",
        "            print(\"❌ Failed to extract text from job description. Aborting.\")\n",
        "            return results\n",
        "\n",
        "        # Extract job requirements\n",
        "        print(f\"🤖 JobAnalysisAgent analyzing job description...\")\n",
        "        job_requirements = self.job_analysis_agent.process(jd_text)\n",
        "\n",
        "        time.sleep(10)\n",
        "\n",
        "        # Process each resume in the directory\n",
        "        resume_files = [f for f in os.listdir(resume_dir) if os.path.isfile(os.path.join(resume_dir, f))]\n",
        "\n",
        "        for filename in resume_files[:5]:\n",
        "            file_path = os.path.join(resume_dir, filename)\n",
        "            print(f\"\\n🤖 DocumentAgent processing resume: {filename}\")\n",
        "\n",
        "            # Extract text from resume\n",
        "            resume_text = self.document_agent.process((file_path, filename))\n",
        "\n",
        "            time.sleep(10)\n",
        "\n",
        "            if resume_text:\n",
        "                # Extract candidate profile\n",
        "                print(f\"🤖 ResumeAnalysisAgent extracting candidate profile...\")\n",
        "                candidate_profile = self.resume_analysis_agent.process(resume_text)\n",
        "\n",
        "                # Evaluate candidate match\n",
        "                print(f\"🤖 MatchingAgent evaluating candidate {candidate_profile['contact_details']['name']}...\")\n",
        "                score = self.matching_agent.process((job_requirements, candidate_profile, resume_text))\n",
        "\n",
        "                # Create result object\n",
        "                result = {\n",
        "                    \"file_name\": filename,\n",
        "                    \"contact_details\": candidate_profile[\"contact_details\"],\n",
        "                    \"candidate_profile\": candidate_profile,\n",
        "                    \"score\": score\n",
        "                }\n",
        "\n",
        "                results.append(result)\n",
        "\n",
        "                # Add a small delay to avoid rate limits\n",
        "                time.sleep(10)\n",
        "            else:\n",
        "                print(f\"❌ DocumentAgent failed to extract text from {filename}. Skipping this resume.\")\n",
        "\n",
        "        # Sort results by total score\n",
        "        results.sort(key=lambda x: x[\"score\"]['total_score'], reverse=True)\n",
        "\n",
        "        # Save results to file\n",
        "        with open(output_path, 'w') as f:\n",
        "            json.dump([result for result in results], f, indent=2)\n",
        "\n",
        "        print(f\"\\n🤖 CoordinatorAgent saved results to {output_path}\")\n",
        "\n",
        "        # Print summary of results\n",
        "        print(\"\\n===== CANDIDATE RANKING =====\")\n",
        "        for i, result in enumerate(results, 1):\n",
        "            name = result[\"contact_details\"]['name']\n",
        "            score = result[\"score\"]['total_score']\n",
        "            print(f\"{i}. {name}: {score}/100\")\n",
        "\n",
        "        # Send interview invitations to candidates above threshold\n",
        "        if self.email_communication_agent:\n",
        "            selected_candidates = [r for r in results if r[\"score\"]['total_score'] >= threshold_score]\n",
        "\n",
        "            print(f\"\\n🤖 EmailCommunicationAgent preparing to send interview invitations to {len(selected_candidates)} candidates who scored {threshold_score}+ out of 100...\\n\")\n",
        "\n",
        "            for candidate in selected_candidates:\n",
        "                response = self.email_communication_agent.process((candidate, calendly_link, email_subject))\n",
        "                time.sleep(1)\n",
        "\n",
        "        return results"
      ]
    },
    {
      "cell_type": "code",
      "source": [
        "from google.colab import drive\n",
        "drive.mount('/content/drive')"
      ],
      "metadata": {
        "id": "HPTjtNX4omOR"
      },
      "execution_count": null,
      "outputs": []
    },
    {
      "cell_type": "markdown",
      "metadata": {
        "id": "3WwnWu9KSMc-"
      },
      "source": [
        "### Run the workflow\n",
        "\n",
        "To run the Multi Agent Workflow For Recruitment, you simply need to:\n",
        "\n",
        "- Configure file paths for the job description, resume directory, and output results\n",
        "- Set up email credentials and Calendly scheduling link\n",
        "- Initialize the CoordinatorAgent with your Mistral client\n",
        "- Configure the EmailCommunicationAgent with sender credentials\n",
        "- Execute the workflow with your desired threshold score"
      ]
    },
    {
      "cell_type": "markdown",
      "metadata": {
        "id": "J_ETjBJsWTfO"
      },
      "source": [
        "#### Define paths\n"
      ]
    },
    {
      "cell_type": "code",
      "execution_count": 35,
      "metadata": {
        "id": "92wKdhEJWVpn"
      },
      "outputs": [],
      "source": [
        "jd_file_path = \"job_description.pdf\"\n",
        "resume_dir = \"resumes/\"\n",
        "output_path = \"candidate_results.json\""
      ]
    },
    {
      "cell_type": "markdown",
      "metadata": {
        "id": "NENusQaEWPpw"
      },
      "source": [
        "#### Gmail App Password Setup\n",
        "\n",
        "To use the email functionality in the Multi Agent Workflow For Recruitment with Gmail, you'll need to create an app password:\n",
        "\n",
        "1. Enable 2-Step Verification on your Google Account:\n",
        "   - Go to your Google Account → Security\n",
        "   - Under \"Signing in to Google,\" select 2-Step Verification → Get started\n",
        "\n",
        "2. Generate an App Password:\n",
        "   - Go to your Google Account → Security\n",
        "   - Under \"Signing in to Google,\" select App passwords\n",
        "   - Select \"Mail\" as the app and \"Other\" as the device (name it \"Recruitment Workflow\")\n",
        "   - Click \"Generate\"\n",
        "   - Google will display a 16-character password (four groups of four characters)\n",
        "\n",
        "3. Use this app password in your workflow configuration:\n",
        "   ```python\n",
        "   sender_email = \"your.email@gmail.com\"\n",
        "   app_password = \"abcd efgh ijkl mnop\"  # Your generated app password\n",
        "   ```\n",
        "\n",
        "This app password bypasses 2FA and allows the workflow to send emails through your Gmail account securely without storing your actual Google password in the code."
      ]
    },
    {
      "cell_type": "code",
      "execution_count": 36,
      "metadata": {
        "id": "BX76nX3XWQ8A"
      },
      "outputs": [],
      "source": [
        "sender_email = \"ihebakermi226@gmail.com\"\n",
        "app_password = \"rrre wcry rqgu lupc\"\n",
        "calendly_link = \"calendly.com/ihebakermi226\"\n",
        "email_subject = \"HireFive: Next Steps for Your Data Scientist Application\""
      ]
    },
    {
      "cell_type": "markdown",
      "metadata": {
        "id": "IjWwwELaWbrt"
      },
      "source": [
        "#### Initialize coordinator agent"
      ]
    },
    {
      "cell_type": "code",
      "execution_count": 37,
      "metadata": {
        "id": "PPuZ1Y-QWdlT"
      },
      "outputs": [],
      "source": [
        "coordinator = CoordinatorAgent(client)"
      ]
    },
    {
      "cell_type": "markdown",
      "metadata": {
        "id": "PfClPB6RWfKU"
      },
      "source": [
        "\n",
        "#### Set up communication agent with email credentials"
      ]
    },
    {
      "cell_type": "code",
      "execution_count": 39,
      "metadata": {
        "id": "fheTVod4WiGi"
      },
      "outputs": [],
      "source": [
        "coordinator.set_email_communication_agent(sender_email, app_password) # Changed 'set_communication_agent' to 'set_email_communication_agent'"
      ]
    },
    {
      "cell_type": "markdown",
      "metadata": {
        "id": "pykMmgUqWjkB"
      },
      "source": [
        "#### Execute hiring workflow\n",
        "\n",
        "Note: We have considered 5 candidate resumes for simplicity's sake."
      ]
    },
    {
      "cell_type": "code",
      "execution_count": 40,
      "metadata": {
        "colab": {
          "base_uri": "https://localhost:8080/"
        },
        "id": "eRTjr_1ze6hD",
        "outputId": "3a35e8b0-1304-4bbe-a01f-a10b5c0db22e"
      },
      "outputs": [
        {
          "output_type": "stream",
          "name": "stdout",
          "text": [
            "🤖 DocumentAgent extracting text from job description...\n",
            "🤖 JobAnalysisAgent analyzing job description...\n",
            "\n",
            "🤖 DocumentAgent processing resume: Resume 4_ David Wilson.pdf\n",
            "🤖 ResumeAnalysisAgent extracting candidate profile...\n",
            "🤖 MatchingAgent evaluating candidate David Wilson...\n",
            "\n",
            "🤖 DocumentAgent processing resume: Resume 12_ Taylor Williams.pdf\n",
            "🤖 ResumeAnalysisAgent extracting candidate profile...\n",
            "🤖 MatchingAgent evaluating candidate Taylor Williams...\n",
            "\n",
            "🤖 DocumentAgent processing resume: Resume 7_ Emily Johnson.pdf\n",
            "🤖 ResumeAnalysisAgent extracting candidate profile...\n",
            "🤖 MatchingAgent evaluating candidate Emily Johnson...\n",
            "\n",
            "🤖 DocumentAgent processing resume: Resume 8_ Robert Thompson.pdf\n",
            "🤖 ResumeAnalysisAgent extracting candidate profile...\n",
            "🤖 MatchingAgent evaluating candidate Robert Thompson...\n",
            "\n",
            "🤖 DocumentAgent processing resume: Resume 1_ Sarah Chen.pdf\n",
            "🤖 ResumeAnalysisAgent extracting candidate profile...\n",
            "🤖 MatchingAgent evaluating candidate Sarah Chen...\n",
            "\n",
            "🤖 CoordinatorAgent saved results to candidate_results.json\n",
            "\n",
            "===== CANDIDATE RANKING =====\n",
            "1. Sarah Chen: 93/100\n",
            "2. Robert Thompson: 82/100\n",
            "3. David Wilson: 68/100\n",
            "4. Emily Johnson: 67/100\n",
            "5. Taylor Williams: 40/100\n",
            "\n",
            "🤖 EmailCommunicationAgent preparing to send interview invitations to 4 candidates who scored 65+ out of 100...\n",
            "\n"
          ]
        }
      ],
      "source": [
        "threshold_score = 65  # Only send to candidates with 65+ overall score\n",
        "results = coordinator.process_hiring_workflow(\n",
        "    jd_file_path=jd_file_path,\n",
        "    resume_dir=resume_dir,\n",
        "    output_path=output_path,\n",
        "    threshold_score=threshold_score,\n",
        "    calendly_link=calendly_link,\n",
        "    email_subject=email_subject\n",
        ")"
      ]
    },
    {
      "cell_type": "markdown",
      "metadata": {
        "id": "h5OeAn4QfJeg"
      },
      "source": [
        "You can check each of the candidates extracted results."
      ]
    },
    {
      "cell_type": "code",
      "execution_count": 41,
      "metadata": {
        "colab": {
          "base_uri": "https://localhost:8080/"
        },
        "id": "g0AxaYe5ep5C",
        "outputId": "4030657d-92be-4cc3-de25-36ef03ff6a37"
      },
      "outputs": [
        {
          "output_type": "execute_result",
          "data": {
            "text/plain": [
              "[{'file_name': 'Resume 1_ Sarah Chen.pdf',\n",
              "  'contact_details': {'name': 'Sarah Chen',\n",
              "   'email': 'san.francisco.ca@gmail.com',\n",
              "   'phone': '+14155559876',\n",
              "   'location': 'San Francisco, CA',\n",
              "   'linkedin': 'https://www.linkedin.com/in/sarahchen',\n",
              "   'website': None},\n",
              "  'candidate_profile': {'contact_details': {'name': 'Sarah Chen',\n",
              "    'email': 'san.francisco.ca@gmail.com',\n",
              "    'phone': '+14155559876',\n",
              "    'location': 'San Francisco, CA',\n",
              "    'linkedin': 'https://www.linkedin.com/in/sarahchen',\n",
              "    'website': None},\n",
              "   'skills': [{'name': 'Python', 'level': 'Advanced', 'years': 5},\n",
              "    {'name': 'R', 'level': 'Intermediate', 'years': 3},\n",
              "    {'name': 'SQL', 'level': 'Advanced', 'years': 5},\n",
              "    {'name': 'Java', 'level': 'Basic', 'years': 2},\n",
              "    {'name': 'NumPy', 'level': 'Advanced', 'years': 4},\n",
              "    {'name': 'Pandas', 'level': 'Advanced', 'years': 4},\n",
              "    {'name': 'scikit-learn', 'level': 'Advanced', 'years': 4},\n",
              "    {'name': 'TensorFlow', 'level': 'Advanced', 'years': 4},\n",
              "    {'name': 'PyTorch', 'level': 'Advanced', 'years': 4},\n",
              "    {'name': 'Keras', 'level': 'Advanced', 'years': 4},\n",
              "    {'name': 'AWS', 'level': 'Advanced', 'years': 4},\n",
              "    {'name': 'GCP', 'level': 'Intermediate', 'years': 3},\n",
              "    {'name': 'Spark', 'level': 'Intermediate', 'years': 3},\n",
              "    {'name': 'Hadoop', 'level': 'Intermediate', 'years': 3},\n",
              "    {'name': 'Tableau', 'level': 'Advanced', 'years': 4},\n",
              "    {'name': 'Matplotlib', 'level': 'Advanced', 'years': 4},\n",
              "    {'name': 'Seaborn', 'level': 'Advanced', 'years': 4},\n",
              "    {'name': 'Plotly', 'level': 'Advanced', 'years': 4},\n",
              "    {'name': 'PostgreSQL', 'level': 'Advanced', 'years': 4},\n",
              "    {'name': 'MongoDB', 'level': 'Advanced', 'years': 4},\n",
              "    {'name': 'Snowflake', 'level': 'Advanced', 'years': 4},\n",
              "    {'name': 'Git', 'level': 'Advanced', 'years': 5},\n",
              "    {'name': 'Docker', 'level': 'Advanced', 'years': 4},\n",
              "    {'name': 'Kubernetes', 'level': 'Advanced', 'years': 4},\n",
              "    {'name': 'Airflow', 'level': 'Advanced', 'years': 4}],\n",
              "   'education': [{'degree': 'PhD',\n",
              "     'field': 'Computer Science',\n",
              "     'institution': 'Stanford University',\n",
              "     'year_completed': 2018,\n",
              "     'gpa': None},\n",
              "    {'degree': 'MS',\n",
              "     'field': 'Statistics',\n",
              "     'institution': 'University of California, Berkeley',\n",
              "     'year_completed': 2014,\n",
              "     'gpa': 3.92},\n",
              "    {'degree': 'BS',\n",
              "     'field': 'Mathematics',\n",
              "     'institution': 'Massachusetts Institute of Technology',\n",
              "     'year_completed': 2012,\n",
              "     'gpa': 3.85}],\n",
              "   'experience': [{'title': 'Senior Data Scientist',\n",
              "     'company': 'HealthMetrics Inc.',\n",
              "     'duration_years': 2,\n",
              "     'skills_used': ['Python',\n",
              "      'TensorFlow',\n",
              "      'AWS SageMaker',\n",
              "      'NLP',\n",
              "      'Machine Learning'],\n",
              "     'achievements': ['Led a team of 3 data scientists developing predictive models for patient readmission risk, reducing 30-day readmissions by 22%',\n",
              "      'Designed and implemented an NLP pipeline for processing clinical notes, improving diagnosis coding efficiency by 35%',\n",
              "      \"Collaborated with product teams to integrate ML models into the company's healthcare analytics platform\",\n",
              "      'Developed a real-time anomaly detection system for monitoring patient vitals',\n",
              "      'Presented findings and insights to C-level executives and healthcare providers'],\n",
              "     'relevance_score': 10},\n",
              "    {'title': 'Data Scientist',\n",
              "     'company': 'FinancialEdge Analytics',\n",
              "     'duration_years': 3,\n",
              "     'skills_used': ['Python',\n",
              "      'PyTorch',\n",
              "      'Gradient Boosting',\n",
              "      'NLP',\n",
              "      'Airflow',\n",
              "      'Docker'],\n",
              "     'achievements': ['Built credit risk assessment models using gradient boosting algorithms, improving default prediction accuracy by 18%',\n",
              "      'Created time series forecasting models for market trend analysis',\n",
              "      'Engineered features from unstructured financial data using NLP techniques',\n",
              "      'Developed an automated ML pipeline for model training, validation, and deployment',\n",
              "      'Collaborated with engineering team to implement models in production systems'],\n",
              "     'relevance_score': 8},\n",
              "    {'title': 'Data Science Intern',\n",
              "     'company': 'Novartis Pharmaceuticals',\n",
              "     'duration_years': 0.33,\n",
              "     'skills_used': ['Data Analysis',\n",
              "      'Statistical Modeling',\n",
              "      'Data Visualization'],\n",
              "     'achievements': ['Analyzed clinical trial data to identify patterns in patient responses to experimental treatments',\n",
              "      'Assisted in developing statistical models to optimize clinical trial design',\n",
              "      'Created interactive data visualizations for research team presentations'],\n",
              "     'relevance_score': 6}]},\n",
              "  'score': {'technical_skills_score': 38,\n",
              "   'experience_score': 28,\n",
              "   'education_score': 15,\n",
              "   'additional_score': 12,\n",
              "   'total_score': 93,\n",
              "   'key_strengths': ['Extensive experience in Python, NumPy, Pandas, and scikit-learn, all at an advanced level and with significant years of experience.',\n",
              "    'Proven expertise in machine learning algorithms and statistical modeling techniques.',\n",
              "    'Strong background in SQL and experience with various databases (PostgreSQL, MongoDB, Snowflake).',\n",
              "    'Advanced skills in data visualization tools like Tableau, Matplotlib, Seaborn, and Plotly.',\n",
              "    'Experience with cloud platforms (AWS, GCP) and big data technologies (Spark, Hadoop).',\n",
              "    'Excellent problem-solving and communication skills demonstrated through achievements in previous roles.',\n",
              "    'PhD in Computer Science and MS in Statistics from top-tier institutions.',\n",
              "    'Relevant experience in both healthcare and finance domains.'],\n",
              "   'key_gaps': ['Lacks experience with Azure, which is a preferred skill.',\n",
              "    'No mention of experience with PowerBI, another preferred skill.',\n",
              "    'Limited experience with Keras, though advanced in TensorFlow and PyTorch.'],\n",
              "   'confidence': 0.95,\n",
              "   'notes': 'Sarah Chen is an exceptionally strong candidate with a robust technical skill set and relevant experience in both healthcare and finance domains. Her educational background is impressive, and she has demonstrated significant achievements in her previous roles. The only minor gaps are in Azure and PowerBI, which are preferred but not required skills. Overall, she is an excellent fit for the role.'}},\n",
              " {'file_name': 'Resume 8_ Robert Thompson.pdf',\n",
              "  'contact_details': {'name': 'Robert Thompson',\n",
              "   'email': 'r.thompson@email.com',\n",
              "   'phone': '+19255558976',\n",
              "   'location': 'Walnut Creek, CA',\n",
              "   'linkedin': 'https://www.linkedin.com/in/robertthompson',\n",
              "   'website': None},\n",
              "  'candidate_profile': {'contact_details': {'name': 'Robert Thompson',\n",
              "    'email': 'r.thompson@email.com',\n",
              "    'phone': '+19255558976',\n",
              "    'location': 'Walnut Creek, CA',\n",
              "    'linkedin': 'https://www.linkedin.com/in/robertthompson',\n",
              "    'website': None},\n",
              "   'skills': [{'name': 'Python', 'level': 'Advanced', 'years': 8},\n",
              "    {'name': 'MATLAB', 'level': 'Advanced', 'years': 8},\n",
              "    {'name': 'C++', 'level': 'Intermediate', 'years': 8},\n",
              "    {'name': 'SQL', 'level': 'Intermediate', 'years': 8},\n",
              "    {'name': 'NumPy', 'level': 'Intermediate', 'years': 8},\n",
              "    {'name': 'Pandas', 'level': 'Intermediate', 'years': 8},\n",
              "    {'name': 'scikit-learn', 'level': 'Intermediate', 'years': 8},\n",
              "    {'name': 'TensorFlow', 'level': 'Intermediate', 'years': 8},\n",
              "    {'name': 'PyTorch', 'level': 'Intermediate', 'years': 8},\n",
              "    {'name': 'Time Series Forecasting', 'level': 'Intermediate', 'years': 8},\n",
              "    {'name': 'Bayesian Methods', 'level': 'Intermediate', 'years': 8},\n",
              "    {'name': 'Monte Carlo Simulations', 'level': 'Intermediate', 'years': 8},\n",
              "    {'name': 'Spark', 'level': 'Beginner', 'years': 8},\n",
              "    {'name': 'Hadoop', 'level': 'Beginner', 'years': 8},\n",
              "    {'name': 'Matplotlib', 'level': 'Intermediate', 'years': 8},\n",
              "    {'name': 'Seaborn', 'level': 'Intermediate', 'years': 8},\n",
              "    {'name': 'Plotly', 'level': 'Intermediate', 'years': 8},\n",
              "    {'name': 'Tableau', 'level': 'Intermediate', 'years': 8},\n",
              "    {'name': 'Git', 'level': 'Intermediate', 'years': 8},\n",
              "    {'name': 'Linux', 'level': 'Intermediate', 'years': 8},\n",
              "    {'name': 'HPC systems', 'level': 'Intermediate', 'years': 8}],\n",
              "   'education': [{'degree': 'PhD',\n",
              "     'field': 'Physics',\n",
              "     'institution': 'Stanford University',\n",
              "     'year_completed': 2013,\n",
              "     'gpa': None},\n",
              "    {'degree': 'MS',\n",
              "     'field': 'Physics',\n",
              "     'institution': 'Massachusetts Institute of Technology',\n",
              "     'year_completed': 2009,\n",
              "     'gpa': 3.95},\n",
              "    {'degree': 'BS',\n",
              "     'field': 'Physics and Mathematics',\n",
              "     'institution': 'California Institute of Technology',\n",
              "     'year_completed': 2007,\n",
              "     'gpa': 3.9}],\n",
              "   'experience': [{'title': 'Lead Data Scientist',\n",
              "     'company': 'EnergyGrid Solutions',\n",
              "     'duration_years': 5,\n",
              "     'skills_used': ['Python',\n",
              "      'MATLAB',\n",
              "      'SQL',\n",
              "      'NumPy',\n",
              "      'Pandas',\n",
              "      'scikit-learn',\n",
              "      'TensorFlow',\n",
              "      'PyTorch',\n",
              "      'Time Series Forecasting',\n",
              "      'Bayesian Methods',\n",
              "      'Monte Carlo Simulations',\n",
              "      'Spark',\n",
              "      'Hadoop',\n",
              "      'Matplotlib',\n",
              "      'Seaborn',\n",
              "      'Plotly',\n",
              "      'Tableau',\n",
              "      'Git',\n",
              "      'Linux',\n",
              "      'HPC systems'],\n",
              "     'achievements': ['Lead a team of 5 data scientists developing predictive models for energy consumption and grid optimization',\n",
              "      'Created time series forecasting models for electricity demand prediction with 92% accuracy',\n",
              "      'Developed anomaly detection algorithms to identify potential equipment failures, reducing downtime by 35%',\n",
              "      'Built optimization algorithms for renewable energy integration, improving efficiency by 18%',\n",
              "      'Collaborated with engineering teams to implement models into production systems',\n",
              "      'Presented findings to executive leadership and external stakeholders'],\n",
              "     'relevance_score': 10},\n",
              "    {'title': 'Data Scientist',\n",
              "     'company': 'National Energy Research Laboratory',\n",
              "     'duration_years': 4,\n",
              "     'skills_used': ['Python',\n",
              "      'MATLAB',\n",
              "      'SQL',\n",
              "      'NumPy',\n",
              "      'Pandas',\n",
              "      'scikit-learn',\n",
              "      'TensorFlow',\n",
              "      'PyTorch',\n",
              "      'Time Series Forecasting',\n",
              "      'Bayesian Methods',\n",
              "      'Monte Carlo Simulations',\n",
              "      'Spark',\n",
              "      'Hadoop',\n",
              "      'Matplotlib',\n",
              "      'Seaborn',\n",
              "      'Plotly',\n",
              "      'Tableau',\n",
              "      'Git',\n",
              "      'Linux',\n",
              "      'HPC systems'],\n",
              "     'achievements': ['Designed and implemented machine learning models for energy systems optimization',\n",
              "      'Conducted research on applying reinforcement learning to grid management problems',\n",
              "      'Developed physics-informed neural networks for complex system modeling',\n",
              "      'Published 7 papers in peer-reviewed journals on energy forecasting and optimization',\n",
              "      'Collaborated with interdisciplinary teams of physicists, engineers, and computer scientists'],\n",
              "     'relevance_score': 9},\n",
              "    {'title': 'Postdoctoral Researcher',\n",
              "     'company': 'University of California, Berkeley - Physics Department',\n",
              "     'duration_years': 2,\n",
              "     'skills_used': ['Python',\n",
              "      'MATLAB',\n",
              "      'SQL',\n",
              "      'NumPy',\n",
              "      'Pandas',\n",
              "      'scikit-learn',\n",
              "      'TensorFlow',\n",
              "      'PyTorch',\n",
              "      'Time Series Forecasting',\n",
              "      'Bayesian Methods',\n",
              "      'Monte Carlo Simulations',\n",
              "      'Spark',\n",
              "      'Hadoop',\n",
              "      'Matplotlib',\n",
              "      'Seaborn',\n",
              "      'Plotly',\n",
              "      'Tableau',\n",
              "      'Git',\n",
              "      'Linux',\n",
              "      'HPC systems'],\n",
              "     'achievements': ['Conducted research on computational physics and complex systems modeling',\n",
              "      'Developed simulation algorithms for quantum systems using high-performance computing',\n",
              "      'Mentored graduate students on computational methods and data analysis',\n",
              "      'Published 3 papers in high-impact physics journals'],\n",
              "     'relevance_score': 8}]},\n",
              "  'score': {'technical_skills_score': 28,\n",
              "   'experience_score': 28,\n",
              "   'education_score': 14,\n",
              "   'additional_score': 12,\n",
              "   'total_score': 82,\n",
              "   'key_strengths': ['Extensive experience in data science and machine learning',\n",
              "    'Strong technical skills in Python, SQL, and various data science libraries',\n",
              "    'Proven track record of leading teams and delivering impactful projects',\n",
              "    'Advanced degrees in relevant fields',\n",
              "    'Experience in time series forecasting and Bayesian methods'],\n",
              "   'key_gaps': ['Lacks advanced proficiency in required skills such as NumPy, Pandas, scikit-learn, and SQL',\n",
              "    'Limited experience in preferred domains like Healthcare and Finance',\n",
              "    'No experience with AWS, Azure, or GCP',\n",
              "    'Lacks advanced problem-solving and communication skills'],\n",
              "   'confidence': 0.85,\n",
              "   'notes': 'Robert Thompson demonstrates strong technical skills and extensive experience in data science, particularly in energy-related projects. His educational background is impressive, with advanced degrees in Physics. However, he lacks advanced proficiency in some required skills and experience in preferred domains. His leadership and team collaboration skills are notable strengths. Overall, he is a strong candidate but may need some additional training in specific areas to fully meet the job requirements.'}},\n",
              " {'file_name': 'Resume 4_ David Wilson.pdf',\n",
              "  'contact_details': {'name': 'David Wilson',\n",
              "   'email': 'dwilson@email.com',\n",
              "   'phone': '+15105559087',\n",
              "   'location': 'Berkeley, CA',\n",
              "   'linkedin': 'https://www.linkedin.com/in/davidwilson',\n",
              "   'website': None},\n",
              "  'candidate_profile': {'contact_details': {'name': 'David Wilson',\n",
              "    'email': 'dwilson@email.com',\n",
              "    'phone': '+15105559087',\n",
              "    'location': 'Berkeley, CA',\n",
              "    'linkedin': 'https://www.linkedin.com/in/davidwilson',\n",
              "    'website': None},\n",
              "   'skills': [{'name': 'SQL', 'level': 'Advanced', 'years': 4},\n",
              "    {'name': 'Python', 'level': 'Intermediate', 'years': 2},\n",
              "    {'name': 'R', 'level': 'Basic', 'years': 1},\n",
              "    {'name': 'Excel', 'level': 'Advanced', 'years': 4},\n",
              "    {'name': 'Statistical Analysis', 'level': 'Intermediate', 'years': 4},\n",
              "    {'name': 'Forecasting', 'level': 'Intermediate', 'years': 4},\n",
              "    {'name': 'Tableau', 'level': 'Intermediate', 'years': 3},\n",
              "    {'name': 'Power BI', 'level': 'Intermediate', 'years': 3},\n",
              "    {'name': 'Machine Learning', 'level': 'Basic', 'years': 1},\n",
              "    {'name': 'SQL Server', 'level': 'Intermediate', 'years': 3},\n",
              "    {'name': 'Oracle', 'level': 'Intermediate', 'years': 3},\n",
              "    {'name': 'MySQL', 'level': 'Intermediate', 'years': 3},\n",
              "    {'name': 'JIRA', 'level': 'Intermediate', 'years': 3},\n",
              "    {'name': 'Confluence', 'level': 'Intermediate', 'years': 3},\n",
              "    {'name': 'Git', 'level': 'Basic', 'years': 1}],\n",
              "   'education': [{'degree': 'MS in Business Analytics',\n",
              "     'field': 'Business Analytics',\n",
              "     'institution': 'University of California, Berkeley',\n",
              "     'year_completed': 2018,\n",
              "     'gpa': 3.6},\n",
              "    {'degree': 'BBA in Finance',\n",
              "     'field': 'Finance',\n",
              "     'institution': 'University of Oregon',\n",
              "     'year_completed': 2016,\n",
              "     'gpa': 3.5}],\n",
              "   'experience': [{'title': 'Business Intelligence Analyst',\n",
              "     'company': 'Financial Services Group',\n",
              "     'duration_years': 3.5,\n",
              "     'skills_used': ['SQL',\n",
              "      'Tableau',\n",
              "      'Data Analysis',\n",
              "      'Financial Forecasting',\n",
              "      'SQL Queries',\n",
              "      'KPI Definition'],\n",
              "     'achievements': ['Developed and maintained executive dashboards using Tableau',\n",
              "      'Performed data analysis to identify trends and patterns in customer behavior',\n",
              "      'Built financial forecasting models with 82% accuracy',\n",
              "      'Created and optimized SQL queries for data extraction and transformation',\n",
              "      'Collaborated with cross-functional teams to define KPIs and metrics',\n",
              "      'Presented findings and recommendations to senior management'],\n",
              "     'relevance_score': 9},\n",
              "    {'title': 'Data Analyst',\n",
              "     'company': 'RetailCorp Inc.',\n",
              "     'duration_years': 1.8,\n",
              "     'skills_used': ['Market Basket Analysis',\n",
              "      'Sales and Inventory Data Analysis',\n",
              "      'Excel Modeling',\n",
              "      'Customer Segmentation Analysis'],\n",
              "     'achievements': ['Conducted market basket analysis to identify cross-selling opportunities',\n",
              "      'Analyzed sales and inventory data to optimize stock levels',\n",
              "      'Created automated reports for weekly and monthly business reviews',\n",
              "      'Built Excel models for sales forecasting and performance tracking',\n",
              "      'Supported marketing campaigns with customer segmentation analysis'],\n",
              "     'relevance_score': 7}]},\n",
              "  'score': {'technical_skills_score': 22,\n",
              "   'experience_score': 24,\n",
              "   'education_score': 12,\n",
              "   'additional_score': 10,\n",
              "   'total_score': 68,\n",
              "   'key_strengths': ['Strong SQL skills with 4 years of advanced experience',\n",
              "    'Proficient in data visualization tools like Tableau and Power BI',\n",
              "    'Relevant experience in financial forecasting and data analysis',\n",
              "    \"Master's degree in Business Analytics from a reputable institution\",\n",
              "    'Experience in presenting findings to senior management'],\n",
              "   'key_gaps': ['Lacks advanced proficiency in Python, NumPy, Pandas, and scikit-learn',\n",
              "    'Limited experience with machine learning algorithms and statistical modeling techniques',\n",
              "    'No experience with preferred cloud platforms (AWS, Azure, GCP)',\n",
              "    'No experience with big data technologies like Spark or Hadoop',\n",
              "    'Lacks experience in the healthcare domain'],\n",
              "   'confidence': 0.8,\n",
              "   'notes': 'David Wilson demonstrates strong analytical and data visualization skills, particularly in the finance domain. However, he lacks advanced proficiency in several required technical skills and has limited experience with machine learning and cloud platforms. His educational background is relevant, but he would benefit from further technical training to meet all job requirements.'}},\n",
              " {'file_name': 'Resume 7_ Emily Johnson.pdf',\n",
              "  'contact_details': {'name': 'Emily Johnson',\n",
              "   'email': 'e.johnson@email.com',\n",
              "   'phone': '+16285554231',\n",
              "   'location': 'San Francisco, CA',\n",
              "   'linkedin': 'linkedin.com/in/emilyjohnson',\n",
              "   'website': None},\n",
              "  'candidate_profile': {'contact_details': {'name': 'Emily Johnson',\n",
              "    'email': 'e.johnson@email.com',\n",
              "    'phone': '+16285554231',\n",
              "    'location': 'San Francisco, CA',\n",
              "    'linkedin': 'linkedin.com/in/emilyjohnson',\n",
              "    'website': None},\n",
              "   'skills': [{'name': 'Python', 'level': 'Advanced', 'years': None},\n",
              "    {'name': 'R', 'level': 'Intermediate', 'years': None},\n",
              "    {'name': 'SQL', 'level': 'Intermediate', 'years': None},\n",
              "    {'name': 'NumPy', 'level': None, 'years': None},\n",
              "    {'name': 'Pandas', 'level': None, 'years': None},\n",
              "    {'name': 'scikit-learn', 'level': None, 'years': None},\n",
              "    {'name': 'TensorFlow', 'level': 'basic', 'years': None},\n",
              "    {'name': 'Keras', 'level': 'basic', 'years': None},\n",
              "    {'name': 'Regression', 'level': None, 'years': None},\n",
              "    {'name': 'Classification', 'level': None, 'years': None},\n",
              "    {'name': 'Clustering', 'level': None, 'years': None},\n",
              "    {'name': 'Hypothesis Testing', 'level': None, 'years': None},\n",
              "    {'name': 'Matplotlib', 'level': None, 'years': None},\n",
              "    {'name': 'Seaborn', 'level': None, 'years': None},\n",
              "    {'name': 'Plotly', 'level': None, 'years': None},\n",
              "    {'name': 'Tableau', 'level': None, 'years': None},\n",
              "    {'name': 'PostgreSQL', 'level': None, 'years': None},\n",
              "    {'name': 'MySQL', 'level': None, 'years': None},\n",
              "    {'name': 'Git', 'level': None, 'years': None},\n",
              "    {'name': 'Jupyter Notebooks', 'level': None, 'years': None},\n",
              "    {'name': 'Google Colab', 'level': None, 'years': None}],\n",
              "   'education': [{'degree': 'MS',\n",
              "     'field': 'Data Science',\n",
              "     'institution': 'University of California, Berkeley',\n",
              "     'year_completed': 2023,\n",
              "     'gpa': 3.85},\n",
              "    {'degree': 'BS',\n",
              "     'field': 'Statistics',\n",
              "     'institution': 'University of California, Davis',\n",
              "     'year_completed': 2022,\n",
              "     'gpa': 3.7}],\n",
              "   'experience': [{'title': 'Data Science Intern',\n",
              "     'company': 'HealthTech Solutions',\n",
              "     'duration_years': 0.25,\n",
              "     'skills_used': ['Machine Learning',\n",
              "      'Data Analysis',\n",
              "      'Data Visualization',\n",
              "      'Collaboration',\n",
              "      'Agile Development'],\n",
              "     'achievements': ['Developed a machine learning model to predict patient no-shows, achieving 78% accuracy',\n",
              "      'Performed exploratory data analysis on patient demographic and appointment data',\n",
              "      'Created data visualizations to communicate findings to non-technical stakeholders',\n",
              "      'Collaborated with product team to implement model insights into the scheduling system',\n",
              "      'Participated in agile development processes and weekly sprint reviews'],\n",
              "     'relevance_score': None},\n",
              "    {'title': 'Research Assistant',\n",
              "     'company': 'University of California, Berkeley - Data Science Department',\n",
              "     'duration_years': 0.75,\n",
              "     'skills_used': ['Natural Language Processing',\n",
              "      'Text Classification',\n",
              "      'Data Preprocessing',\n",
              "      'Research',\n",
              "      'Teaching Assistance'],\n",
              "     'achievements': ['Assisted professor with research on natural language processing applications in healthcare',\n",
              "      'Implemented and evaluated various text classification algorithms',\n",
              "      'Preprocessed and cleaned large textual datasets from electronic health records',\n",
              "      'Co-authored a research paper submitted to a data science conference',\n",
              "      'Provided support for undergraduate data science courses as a teaching assistant'],\n",
              "     'relevance_score': None},\n",
              "    {'title': 'Marketing Analyst Intern',\n",
              "     'company': 'Digital Marketing Agency',\n",
              "     'duration_years': 0.25,\n",
              "     'skills_used': ['Data Analysis',\n",
              "      'Reporting',\n",
              "      'A/B Testing',\n",
              "      'Customer Segmentation'],\n",
              "     'achievements': ['Analyzed digital marketing campaign performance data using Excel and basic Python',\n",
              "      'Created reports and dashboards to visualize key performance metrics',\n",
              "      'Assisted in developing A/B testing strategies for email marketing campaigns',\n",
              "      'Performed customer segmentation analysis for targeted marketing efforts'],\n",
              "     'relevance_score': None}]},\n",
              "  'score': {'technical_skills_score': 25,\n",
              "   'experience_score': 18,\n",
              "   'education_score': 14,\n",
              "   'additional_score': 10,\n",
              "   'total_score': 67,\n",
              "   'key_strengths': ['Strong educational background in Data Science and Statistics',\n",
              "    'Experience with machine learning and data analysis in a healthcare setting',\n",
              "    'Proven ability to communicate complex findings to non-technical stakeholders',\n",
              "    'Familiarity with key tools and libraries such as Python, SQL, and Tableau'],\n",
              "   'key_gaps': ['Lacks advanced proficiency in required skills like NumPy, Pandas, and scikit-learn',\n",
              "    'Limited experience with preferred skills such as TensorFlow, PyTorch, and cloud platforms',\n",
              "    'Insufficient experience in the finance domain',\n",
              "    'Less than 3 years of relevant work experience'],\n",
              "   'confidence': 0.8,\n",
              "   'notes': 'Emily Johnson demonstrates a solid foundation in data science and relevant technical skills. However, she lacks the advanced proficiency in some required skills and has limited experience with preferred tools and domains. Her educational background and internship experience in healthcare are strong points, but she needs more experience in the finance domain and additional years of relevant work experience to fully meet the job requirements.'}},\n",
              " {'file_name': 'Resume 12_ Taylor Williams.pdf',\n",
              "  'contact_details': {'name': 'Taylor Williams',\n",
              "   'email': 'hello@taylorwilliams.design',\n",
              "   'phone': '+16285557890',\n",
              "   'location': 'San Francisco, CA',\n",
              "   'linkedin': None,\n",
              "   'website': 'taylorwilliams.design'},\n",
              "  'candidate_profile': {'contact_details': {'name': 'Taylor Williams',\n",
              "    'email': 'hello@taylorwilliams.design',\n",
              "    'phone': '+16285557890',\n",
              "    'location': 'San Francisco, CA',\n",
              "    'linkedin': None,\n",
              "    'website': 'taylorwilliams.design'},\n",
              "   'skills': [{'name': 'User Interface Design',\n",
              "     'level': 'advanced',\n",
              "     'years': 5},\n",
              "    {'name': 'Interaction Design', 'level': 'advanced', 'years': 5},\n",
              "    {'name': 'Wireframing', 'level': 'advanced', 'years': 5},\n",
              "    {'name': 'Prototyping', 'level': 'advanced', 'years': 5},\n",
              "    {'name': 'Visual Design', 'level': 'advanced', 'years': 5},\n",
              "    {'name': 'Design Systems', 'level': 'advanced', 'years': 5},\n",
              "    {'name': 'User Research', 'level': 'advanced', 'years': 5},\n",
              "    {'name': 'Usability Testing', 'level': 'advanced', 'years': 5},\n",
              "    {'name': 'A/B Testing', 'level': 'advanced', 'years': 5},\n",
              "    {'name': 'Persona Development', 'level': 'advanced', 'years': 5},\n",
              "    {'name': 'Journey Mapping', 'level': 'advanced', 'years': 5},\n",
              "    {'name': 'Figma', 'level': 'advanced', 'years': 5},\n",
              "    {'name': 'Adobe XD', 'level': 'advanced', 'years': 5},\n",
              "    {'name': 'Sketch', 'level': 'advanced', 'years': 5},\n",
              "    {'name': 'InVision', 'level': 'advanced', 'years': 5},\n",
              "    {'name': 'Illustrator', 'level': 'advanced', 'years': 5},\n",
              "    {'name': 'Photoshop', 'level': 'advanced', 'years': 5},\n",
              "    {'name': 'Zeplin', 'level': 'advanced', 'years': 5},\n",
              "    {'name': 'Miro', 'level': 'advanced', 'years': 5},\n",
              "    {'name': 'HTML/CSS', 'level': 'intermediate', 'years': 5},\n",
              "    {'name': 'JavaScript', 'level': 'beginner', 'years': 5},\n",
              "    {'name': 'React', 'level': 'beginner', 'years': 5},\n",
              "    {'name': 'Design Thinking', 'level': 'advanced', 'years': 5},\n",
              "    {'name': 'Agile/Scrum', 'level': 'advanced', 'years': 5},\n",
              "    {'name': 'Lean UX', 'level': 'advanced', 'years': 5},\n",
              "    {'name': 'Design Sprints', 'level': 'advanced', 'years': 5},\n",
              "    {'name': 'Cross-functional Teams', 'level': 'advanced', 'years': 5},\n",
              "    {'name': 'Developer Handoff', 'level': 'advanced', 'years': 5},\n",
              "    {'name': 'Product Management', 'level': 'advanced', 'years': 5}],\n",
              "   'education': [{'degree': 'BFA',\n",
              "     'field': 'Graphic Design',\n",
              "     'institution': 'California College of the Arts',\n",
              "     'year_completed': 2018,\n",
              "     'gpa': 3.85}],\n",
              "   'experience': [{'title': 'Senior UX/UI Designer',\n",
              "     'company': 'FinTech Innovations',\n",
              "     'duration_years': 1.5,\n",
              "     'skills_used': ['User Interface Design',\n",
              "      'Interaction Design',\n",
              "      'User Research',\n",
              "      'Usability Testing',\n",
              "      'Design Systems',\n",
              "      'Cross-functional Teams',\n",
              "      'Developer Handoff',\n",
              "      'Product Management'],\n",
              "     'achievements': ['Led UX/UI design for consumer-facing financial management applications with 500,000+ users',\n",
              "      'Conducted user research and usability testing to identify pain points and validate design solutions',\n",
              "      'Redesigned core features resulting in 35% improvement in task completion rates and 28% increase in user satisfaction',\n",
              "      'Created and maintained comprehensive design system, improving design consistency and development efficiency',\n",
              "      'Collaborated with product managers, engineers, and stakeholders throughout product development lifecycle',\n",
              "      'Mentored junior designers and facilitated design thinking workshops for cross-functional teams'],\n",
              "     'relevance_score': 10},\n",
              "    {'title': 'UX Designer',\n",
              "     'company': 'TechSolutions Corp',\n",
              "     'duration_years': 2,\n",
              "     'skills_used': ['User Interface Design',\n",
              "      'Wireframing',\n",
              "      'Prototyping',\n",
              "      'Usability Testing',\n",
              "      'Agile/Scrum',\n",
              "      'Developer Handoff'],\n",
              "     'achievements': ['Designed user interfaces for enterprise SaaS products, focusing on workflow efficiency and usability',\n",
              "      'Created wireframes, user flows, and interactive prototypes for new features and product enhancements',\n",
              "      'Conducted usability testing and synthesized findings into actionable design improvements',\n",
              "      'Collaborated with developers to ensure accurate implementation of designs',\n",
              "      'Participated in agile development process, attending daily stand-ups and sprint planning'],\n",
              "     'relevance_score': 8},\n",
              "    {'title': 'UI Designer',\n",
              "     'company': 'Creative Agency Partners',\n",
              "     'duration_years': 1.5,\n",
              "     'skills_used': ['User Interface Design',\n",
              "      'Visual Design',\n",
              "      'Collaboration',\n",
              "      'Client Presentation'],\n",
              "     'achievements': ['Designed user interfaces for web and mobile applications across various industries',\n",
              "      'Created visual design assets including icons, illustrations, and marketing materials',\n",
              "      'Collaborated with UX researchers to implement research findings into design solutions',\n",
              "      'Presented design concepts and rationales to clients',\n",
              "      'Participated in brainstorming sessions and concept development'],\n",
              "     'relevance_score': 6}]},\n",
              "  'score': {'technical_skills_score': 10,\n",
              "   'experience_score': 20,\n",
              "   'education_score': 5,\n",
              "   'additional_score': 5,\n",
              "   'total_score': 40,\n",
              "   'key_strengths': ['Proven expertise in UX/UI design with a strong portfolio of achievements in improving user satisfaction and task completion rates.',\n",
              "    'Experience in leading design projects and mentoring junior designers.',\n",
              "    'Strong collaboration skills with cross-functional teams and stakeholders.'],\n",
              "   'key_gaps': ['Lacks the required technical skills in Python, NumPy, Pandas, scikit-learn, SQL, Machine Learning Algorithms, Statistical Modeling Techniques, and Problem-Solving.',\n",
              "    \"Does not meet the minimum education requirement of a Master's degree in a relevant quantitative field.\",\n",
              "    'Limited experience in the preferred domains of Healthcare and Finance.'],\n",
              "   'confidence': 0.9,\n",
              "   'notes': \"The candidate has a strong background in UX/UI design but lacks the necessary technical skills and educational qualifications for the role. The experience in the finance sector is relevant but limited. The candidate's design expertise and collaboration skills are notable strengths.\"}}]"
            ]
          },
          "metadata": {},
          "execution_count": 41
        }
      ],
      "source": [
        "results"
      ]
    },
    {
      "cell_type": "code",
      "execution_count": 41,
      "metadata": {
        "id": "DPTCFKF6euW1"
      },
      "outputs": [],
      "source": []
    }
  ],
  "metadata": {
    "colab": {
      "provenance": []
    },
    "kernelspec": {
      "display_name": "Python 3",
      "name": "python3"
    },
    "language_info": {
      "codemirror_mode": {
        "name": "ipython",
        "version": 3
      },
      "file_extension": ".py",
      "mimetype": "text/x-python",
      "name": "python",
      "nbconvert_exporter": "python",
      "pygments_lexer": "ipython3",
      "version": "3.9.6"
    }
  },
  "nbformat": 4,
  "nbformat_minor": 0
}